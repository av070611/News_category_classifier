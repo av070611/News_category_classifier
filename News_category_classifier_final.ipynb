{
 "cells": [
  {
   "cell_type": "markdown",
   "metadata": {
    "id": "9faeeba3"
   },
   "source": [
    "# Project - The Better India Task 4\n",
    "### by Abhishek verma"
   ]
  },
  {
   "cell_type": "code",
   "execution_count": 1,
   "metadata": {
    "id": "-npj5H-BFFRz"
   },
   "outputs": [],
   "source": [
    "# Importing The required Libraries.\n",
    "import pandas as pd\n",
    "import numpy as np\n",
    "import seaborn as sns\n",
    "import matplotlib.pyplot as plt\n",
    "import re\n",
    "import nltk\n",
    "import array as arr\n",
    "from nltk.corpus import stopwords\n",
    "from nltk.tokenize import sent_tokenize, word_tokenize\n",
    "from nltk.stem import WordNetLemmatizer\n",
    "from nltk.stem.porter import PorterStemmer \n",
    "import string\n",
    "from datetime import datetime"
   ]
  },
  {
   "cell_type": "code",
   "execution_count": 2,
   "metadata": {
    "colab": {
     "base_uri": "https://localhost:8080/",
     "height": 337
    },
    "id": "5DtZ0RLSdJmr",
    "outputId": "7a2416c2-9a60-4a8c-c7be-8b96204dc954"
   },
   "outputs": [
    {
     "data": {
      "text/html": [
       "<div>\n",
       "<style scoped>\n",
       "    .dataframe tbody tr th:only-of-type {\n",
       "        vertical-align: middle;\n",
       "    }\n",
       "\n",
       "    .dataframe tbody tr th {\n",
       "        vertical-align: top;\n",
       "    }\n",
       "\n",
       "    .dataframe thead th {\n",
       "        text-align: right;\n",
       "    }\n",
       "</style>\n",
       "<table border=\"1\" class=\"dataframe\">\n",
       "  <thead>\n",
       "    <tr style=\"text-align: right;\">\n",
       "      <th></th>\n",
       "      <th>Article category</th>\n",
       "      <th>News Headline</th>\n",
       "      <th>Author</th>\n",
       "      <th>news_link</th>\n",
       "      <th>short_description</th>\n",
       "      <th>date</th>\n",
       "    </tr>\n",
       "  </thead>\n",
       "  <tbody>\n",
       "    <tr>\n",
       "      <th>0</th>\n",
       "      <td>WEDDINGS</td>\n",
       "      <td>Real Weddings: Couples Who Got Married This We...</td>\n",
       "      <td>NaN</td>\n",
       "      <td>_RARE_</td>\n",
       "      <td>If there's ever a time you need a little distr...</td>\n",
       "      <td>29/07/13</td>\n",
       "    </tr>\n",
       "    <tr>\n",
       "      <th>1</th>\n",
       "      <td>WELLNESS</td>\n",
       "      <td>The Moment I Knew</td>\n",
       "      <td>MeiMei Fox, Contributor\\nNYTimes bestselling a...</td>\n",
       "      <td>_RARE_</td>\n",
       "      <td>NaN</td>\n",
       "      <td>02/05/13</td>\n",
       "    </tr>\n",
       "    <tr>\n",
       "      <th>2</th>\n",
       "      <td>POLITICS</td>\n",
       "      <td>Sunday Roundup</td>\n",
       "      <td>Arianna Huffington, Contributor</td>\n",
       "      <td>_RARE_</td>\n",
       "      <td>NaN</td>\n",
       "      <td>17/01/15</td>\n",
       "    </tr>\n",
       "    <tr>\n",
       "      <th>3</th>\n",
       "      <td>PARENTS</td>\n",
       "      <td>Funniest Parenting Tweets: What Moms And Dads ...</td>\n",
       "      <td>Hollis Miller</td>\n",
       "      <td>_RARE_</td>\n",
       "      <td>Kids may say the darndest things, but parents ...</td>\n",
       "      <td>15/07/16</td>\n",
       "    </tr>\n",
       "    <tr>\n",
       "      <th>4</th>\n",
       "      <td>BUSINESS</td>\n",
       "      <td>WATCH: 60 Seconds of Social Media</td>\n",
       "      <td>Shawn Amos, Contributor\\nblues preacher | cont...</td>\n",
       "      <td>_RARE_</td>\n",
       "      <td>So, you think you're a real fashionista, hmm? ...</td>\n",
       "      <td>18/08/12</td>\n",
       "    </tr>\n",
       "  </tbody>\n",
       "</table>\n",
       "</div>"
      ],
      "text/plain": [
       "  Article category                                      News Headline  \\\n",
       "0         WEDDINGS  Real Weddings: Couples Who Got Married This We...   \n",
       "1         WELLNESS                                  The Moment I Knew   \n",
       "2         POLITICS                                     Sunday Roundup   \n",
       "3          PARENTS  Funniest Parenting Tweets: What Moms And Dads ...   \n",
       "4         BUSINESS                  WATCH: 60 Seconds of Social Media   \n",
       "\n",
       "                                              Author news_link  \\\n",
       "0                                                NaN    _RARE_   \n",
       "1  MeiMei Fox, Contributor\\nNYTimes bestselling a...    _RARE_   \n",
       "2                    Arianna Huffington, Contributor    _RARE_   \n",
       "3                                      Hollis Miller    _RARE_   \n",
       "4  Shawn Amos, Contributor\\nblues preacher | cont...    _RARE_   \n",
       "\n",
       "                                   short_description      date  \n",
       "0  If there's ever a time you need a little distr...  29/07/13  \n",
       "1                                                NaN  02/05/13  \n",
       "2                                                NaN  17/01/15  \n",
       "3  Kids may say the darndest things, but parents ...  15/07/16  \n",
       "4  So, you think you're a real fashionista, hmm? ...  18/08/12  "
      ]
     },
     "metadata": {},
     "output_type": "display_data"
    }
   ],
   "source": [
    "# Reading The Dataset.\n",
    "df= pd.read_csv(r\"D:\\WORK FILES\\python project the_better_india\\news_syn.csv\")\n",
    "display(df.head())       "
   ]
  },
  {
   "cell_type": "code",
   "execution_count": 3,
   "metadata": {
    "colab": {
     "base_uri": "https://localhost:8080/"
    },
    "id": "cYuvGpB_OMPf",
    "outputId": "6d64f981-d1c0-4453-d81d-5307f16eec97"
   },
   "outputs": [
    {
     "data": {
      "text/plain": [
       "(10000, 6)"
      ]
     },
     "execution_count": 3,
     "metadata": {},
     "output_type": "execute_result"
    }
   ],
   "source": [
    "# Checking the Shape of the Data (Number of Rows and Columns).\n",
    "df.shape\n"
   ]
  },
  {
   "cell_type": "code",
   "execution_count": 4,
   "metadata": {
    "colab": {
     "base_uri": "https://localhost:8080/"
    },
    "id": "fpyPuMyIOWLk",
    "outputId": "10389c68-971a-464b-dcf6-a44a7b58cbf7"
   },
   "outputs": [
    {
     "name": "stdout",
     "output_type": "stream",
     "text": [
      "<class 'pandas.core.frame.DataFrame'>\n",
      "RangeIndex: 10000 entries, 0 to 9999\n",
      "Data columns (total 6 columns):\n",
      " #   Column             Non-Null Count  Dtype \n",
      "---  ------             --------------  ----- \n",
      " 0   Article category   10000 non-null  object\n",
      " 1   News Headline      9087 non-null   object\n",
      " 2   Author             7282 non-null   object\n",
      " 3   news_link          10000 non-null  object\n",
      " 4   short_description  3874 non-null   object\n",
      " 5   date               10000 non-null  object\n",
      "dtypes: object(6)\n",
      "memory usage: 468.9+ KB\n"
     ]
    }
   ],
   "source": [
    "# checking the information about data.\n",
    "df.info()"
   ]
  },
  {
   "cell_type": "code",
   "execution_count": 5,
   "metadata": {
    "colab": {
     "base_uri": "https://localhost:8080/"
    },
    "id": "L0cnFQudOB00",
    "outputId": "536e4ef2-0c32-4644-88dc-5f3a7780f6bd"
   },
   "outputs": [
    {
     "data": {
      "text/plain": [
       "Article category        0\n",
       "News Headline         913\n",
       "Author               2718\n",
       "news_link               0\n",
       "short_description    6126\n",
       "date                    0\n",
       "dtype: int64"
      ]
     },
     "execution_count": 5,
     "metadata": {},
     "output_type": "execute_result"
    }
   ],
   "source": [
    "# Checking the NULL Values inside the Dataset.\n",
    "df.isnull().sum()"
   ]
  },
  {
   "cell_type": "code",
   "execution_count": 6,
   "metadata": {
    "colab": {
     "base_uri": "https://localhost:8080/"
    },
    "id": "SFjKsKIRHwQ6",
    "outputId": "661789d0-8dcb-4951-c94e-2cc9826fdbd4"
   },
   "outputs": [
    {
     "data": {
      "text/plain": [
       "Article category       41\n",
       "News Headline          34\n",
       "Author                267\n",
       "news_link               1\n",
       "short_description      46\n",
       "date                 1813\n",
       "dtype: int64"
      ]
     },
     "execution_count": 6,
     "metadata": {},
     "output_type": "execute_result"
    }
   ],
   "source": [
    "df.nunique()"
   ]
  },
  {
   "cell_type": "markdown",
   "metadata": {
    "id": "bwm29l99hmzs"
   },
   "source": [
    "#REPLACING CATEGORY NAME IN ARTICLE CATEGORY WITH SAME CATEGORY OR SIMILAR CATEGORY. "
   ]
  },
  {
   "cell_type": "code",
   "execution_count": 7,
   "metadata": {
    "id": "WaXpAuPaLoLo"
   },
   "outputs": [],
   "source": [
    "\n",
    "df[\"Article category\"] = df[\"Article category\"].replace(\"WORLDPOST\",\"THE WORLDPOST\")\n",
    "df[\"Article category\"] = df[\"Article category\"].replace((\"CULTURE & ARTS\",\"ARTS\"),\"ARTS & CULTURE\")\n",
    "df[\"Article category\"] = df[\"Article category\"].replace(\"STYLE\",\"STYLE & BEAUTY\")"
   ]
  },
  {
   "cell_type": "markdown",
   "metadata": {
    "id": "vErgJcnlcU0V"
   },
   "source": [
    "# Checking unique article category"
   ]
  },
  {
   "cell_type": "code",
   "execution_count": 8,
   "metadata": {
    "colab": {
     "base_uri": "https://localhost:8080/"
    },
    "id": "wEYKWmEuL-Bu",
    "outputId": "ea07a0d6-253c-4414-cce0-3eb8310ee9e0"
   },
   "outputs": [
    {
     "data": {
      "text/plain": [
       "array(['WEDDINGS', 'WELLNESS', 'POLITICS', 'PARENTS', 'BUSINESS',\n",
       "       'FOOD & DRINK', 'TRAVEL', 'COMEDY', 'IMPACT', 'HOME & LIVING',\n",
       "       'BLACK VOICES', 'PARENTING', 'QUEER VOICES', 'ENVIRONMENT',\n",
       "       'WEIRD NEWS', 'THE WORLDPOST', 'HEALTHY LIVING', 'SPORTS',\n",
       "       'ENTERTAINMENT', 'CRIME', 'COLLEGE', 'MEDIA', 'WOMEN',\n",
       "       'ARTS & CULTURE', 'GOOD NEWS', 'STYLE & BEAUTY', 'DIVORCE',\n",
       "       'RELIGION', 'MONEY', 'SCIENCE', 'GREEN', 'TASTE', 'WORLD NEWS',\n",
       "       'TECH', 'LATINO VOICES', 'EDUCATION', 'FIFTY'], dtype=object)"
      ]
     },
     "execution_count": 8,
     "metadata": {},
     "output_type": "execute_result"
    }
   ],
   "source": [
    "df['Article category'].unique()"
   ]
  },
  {
   "cell_type": "markdown",
   "metadata": {
    "id": "ShBQ_4gAd_xH"
   },
   "source": [
    "#Filling column News Headline , Author and short_description by specific category in article catergory."
   ]
  },
  {
   "cell_type": "code",
   "execution_count": 9,
   "metadata": {
    "id": "_FI_snAd5tlV"
   },
   "outputs": [],
   "source": [
    "\n",
    "df.loc[df[\"Article category\"]==\"WELLNESS\",\"short_description\"]= df[df['Article category']=='WELLNESS'][\"short_description\"].fillna(df[df[\"Article category\"]==\"WELLNESS\"][\"short_description\"].mode()[0])\n",
    "df.loc[df[\"Article category\"]==\"POLITICS\",\"short_description\"]= df[df['Article category']=='POLITICS'][\"short_description\"].fillna(df[df[\"Article category\"]==\"POLITICS\"][\"short_description\"].mode()[0])\n",
    "df.loc[df[\"Article category\"]==\"PARENTS\",\"short_description\"]= df[df['Article category']=='PARENTS'][\"short_description\"].fillna(df[df[\"Article category\"]==\"PARENTS\"][\"short_description\"].mode()[0])\n",
    "df.loc[df[\"Article category\"]==\"BUSINESS\",\"short_description\"]= df[df['Article category']=='BUSINESS'][\"short_description\"].fillna(df[df[\"Article category\"]==\"BUSINESS\"][\"short_description\"].mode()[0])\n",
    "df.loc[df[\"Article category\"]==\"FOOD & DRINK\",\"short_description\"]= df[df['Article category']=='FOOD & DRINK'][\"short_description\"].fillna(df[df[\"Article category\"]==\"FOOD & DRINK\"][\"short_description\"].mode()[0])\n",
    "df.loc[df[\"Article category\"]==\"TRAVEL\",\"short_description\"]= df[df['Article category']=='TRAVEL'][\"short_description\"].fillna(df[df[\"Article category\"]==\"TRAVEL\"][\"short_description\"].mode()[0])\n",
    "df.loc[df[\"Article category\"]==\"COMEDY\",\"short_description\"]= df[df['Article category']=='COMEDY'][\"short_description\"].fillna(df[df[\"Article category\"]==\"COMEDY\"][\"short_description\"].mode()[0])\n",
    "df.loc[df[\"Article category\"]==\"IMPACT\",\"short_description\"]= df[df['Article category']=='IMPACT'][\"short_description\"].fillna(df[df[\"Article category\"]==\"IMPACT\"][\"short_description\"].mode()[0])\n",
    "df.loc[df[\"Article category\"]==\"HOME & LIVING\",\"short_description\"]= df[df['Article category']=='HOME & LIVING'][\"short_description\"].fillna(df[df[\"Article category\"]==\"HOME & LIVING\"][\"short_description\"].mode()[0])\n",
    "df.loc[df[\"Article category\"]==\"BLACK VOICES\",\"short_description\"]= df[df['Article category']=='BLACK VOICES'][\"short_description\"].fillna(df[df[\"Article category\"]==\"BLACK VOICES\"][\"short_description\"].mode()[0])\n",
    "df.loc[df[\"Article category\"]==\"PARENTING\",\"short_description\"]= df[df['Article category']=='PARENTING'][\"short_description\"].fillna(df[df[\"Article category\"]==\"PARENTING\"][\"short_description\"].mode()[0])\n",
    "df.loc[df[\"Article category\"]==\"QUEER VOICES\",\"short_description\"]= df[df['Article category']=='QUEER VOICES'][\"short_description\"].fillna(df[df[\"Article category\"]==\"QUEER VOICES\"][\"short_description\"].mode()[0])\n",
    "df.loc[df[\"Article category\"]==\"ENVIRONMENT\",\"short_description\"]= df[df['Article category']=='ENVIRONMENT'][\"short_description\"].fillna(df[df[\"Article category\"]==\"ENVIRONMENT\"][\"short_description\"].mode()[0])\n",
    "df.loc[df[\"Article category\"]==\"WEIRD NEWS\",\"short_description\"]= df[df['Article category']=='WEIRD NEWS'][\"short_description\"].fillna(df[df[\"Article category\"]==\"WEIRD NEWS\"][\"short_description\"].mode()[0])\n",
    "df.loc[df[\"Article category\"]==\"THE WORLDPOST\",\"short_description\"]= df[df['Article category']=='THE WORLDPOST'][\"short_description\"].fillna(df[df[\"Article category\"]==\"THE WORLDPOST\"][\"short_description\"].mode()[0])\n",
    "df.loc[df[\"Article category\"]==\"HEALTHY LIVING\",\"short_description\"]= df[df['Article category']=='HEALTHY LIVING'][\"short_description\"].fillna(df[df[\"Article category\"]==\"HEALTHY LIVING\"][\"short_description\"].mode()[0])\n",
    "df.loc[df[\"Article category\"]==\"SPORTS\",\"short_description\"]= df[df['Article category']=='SPORTS'][\"short_description\"].fillna(df[df[\"Article category\"]==\"SPORTS\"][\"short_description\"].mode()[0])\n",
    "df.loc[df[\"Article category\"]==\"ENTERTAINMENT\",\"short_description\"]= df[df['Article category']=='ENTERTAINMENT'][\"short_description\"].fillna(df[df[\"Article category\"]==\"ENTERTAINMENT\"][\"short_description\"].mode()[0])\n",
    "df.loc[df[\"Article category\"]==\"CRIME\",\"short_description\"]= df[df['Article category']=='CRIME'][\"short_description\"].fillna(df[df[\"Article category\"]==\"CRIME\"][\"short_description\"].mode()[0])\n",
    "df.loc[df[\"Article category\"]==\"COLLEGE\",\"short_description\"]= df[df['Article category']=='COLLEGE'][\"short_description\"].replace(np.nan,\"no short_description\")\n",
    "df.loc[df[\"Article category\"]==\"MEDIA\",\"short_description\"]= df[df['Article category']=='MEDIA'][\"short_description\"].fillna(df[df[\"Article category\"]==\"MEDIA\"][\"short_description\"].mode()[0])\n",
    "df.loc[df[\"Article category\"]==\"WOMEN\",\"short_description\"]= df[df['Article category']=='WOMEN'][\"short_description\"].fillna(df[df[\"Article category\"]==\"WOMEN\"][\"short_description\"].mode()[0])\n",
    "df.loc[df[\"Article category\"]==\"ARTS & CULTURE\",\"short_description\"]= df[df['Article category']=='ARTS & CULTURE'][\"short_description\"].fillna(df[df[\"Article category\"]==\"ARTS & CULTURE\"][\"short_description\"].mode()[0])\n",
    "df.loc[df['Article category']=='WELLNESS','short_description']= df[df['Article category']=='WELLNESS']['short_description'].fillna(df[df['Article category']=='WELLNESS']['short_description'].mode()[0])\n",
    "df.loc[df['Article category']=='GOOD NEWS','short_description']= df[df['Article category']=='GOOD NEWS']['short_description'].fillna(df[df['Article category']=='GOOD NEWS']['short_description'].mode()[0])\n",
    "df.loc[df['Article category']=='STYLE & BEAUTY','short_description']= df[df['Article category']=='STYLE & BEAUTY']['short_description'].fillna(df[df['Article category']=='STYLE & BEAUTY']['short_description'].mode()[0])\n",
    "df.loc[df['Article category']=='DIVORCE','short_description']= df[df['Article category']=='DIVORCE']['short_description'].fillna(df[df['Article category']=='DIVORCE']['short_description'].mode()[0])\n",
    "df.loc[df['Article category']=='RELIGION','short_description']= df[df['Article category']=='RELIGION']['short_description'].fillna(df[df['Article category']=='RELIGION']['short_description'].mode()[0])\n",
    "df.loc[df['Article category']=='SCIENCE','short_description']= df[df['Article category']=='SCIENCE']['short_description'].fillna(df[df['Article category']=='SCIENCE']['short_description'].mode()[0])\n",
    "df.loc[df['Article category']=='MONEY','short_description']= df[df['Article category']=='MONEY']['short_description'].fillna(df[df['Article category']=='MONEY']['short_description'].mode()[0])\n",
    "df.loc[df['Article category']=='GREEN','short_description']= df[df['Article category']=='GREEN']['short_description'].fillna(df[df['Article category']=='GREEN']['short_description'].mode()[0])\n",
    "df.loc[df['Article category']=='TASTE','short_description']= df[df['Article category']=='TASTE']['short_description'].fillna(df[df['Article category']=='TASTE']['short_description'].mode()[0])\n",
    "df.loc[df['Article category']=='WORLD NEWS','short_description']= df[df['Article category']=='WORLD NEWS']['short_description'].replace(np.nan, 'no short_description')\n",
    "df.loc[df['Article category']=='TECH','short_description']= df[df['Article category']=='TECH']['short_description'].fillna(df[df['Article category']=='TECH']['short_description'].mode()[0])\n",
    "df.loc[df['Article category']=='LATINO VOICES','short_description']= df[df['Article category']=='LATINO VOICES']['short_description'].fillna(df[df['Article category']=='LATINO VOICES']['short_description'].mode()[0])\n",
    "df.loc[df['Article category']=='EDUCATION','short_description']= df[df['Article category']=='EDUCATION']['short_description'].fillna(df[df['Article category']=='EDUCATION']['short_description'].mode()[0])\n",
    "df.loc[df['Article category']=='FIFTY','short_description']= df[df['Article category']=='FIFTY']['short_description'].fillna(df[df['Article category']=='FIFTY']['short_description'].mode()[0])"
   ]
  },
  {
   "cell_type": "code",
   "execution_count": 10,
   "metadata": {
    "id": "VRjyRq6p6L_e"
   },
   "outputs": [],
   "source": [
    "df.loc[df[\"Article category\"]==\"WEDDINGS\",\"News Headline\"]= df[df['Article category']=='WEDDINGS'][\"News Headline\"].fillna(df[df[\"Article category\"]==\"WEDDINGS\"][\"News Headline\"].mode()[0])\n",
    "df.loc[df[\"Article category\"]==\"WELLNESS\",\"News Headline\"]= df[df['Article category']=='WELLNESS'][\"News Headline\"].fillna(df[df[\"Article category\"]==\"WELLNESS\"][\"News Headline\"].mode()[0])\n",
    "df.loc[df[\"Article category\"]==\"POLITICS\",\"News Headline\"]= df[df['Article category']=='POLITICS'][\"News Headline\"].fillna(df[df[\"Article category\"]==\"POLITICS\"][\"News Headline\"].mode()[0])\n",
    "df.loc[df[\"Article category\"]==\"PARENTS\",\"News Headline\"]= df[df['Article category']=='PARENTS'][\"News Headline\"].fillna(df[df[\"Article category\"]==\"PARENTS\"][\"News Headline\"].mode()[0])\n",
    "df.loc[df[\"Article category\"]==\"BUSINESS\",\"News Headline\"]= df[df['Article category']=='BUSINESS'][\"News Headline\"].fillna(df[df[\"Article category\"]==\"BUSINESS\"][\"News Headline\"].mode()[0])\n",
    "df.loc[df[\"Article category\"]==\"FOOD & DRINK\",\"News Headline\"]= df[df['Article category']=='FOOD & DRINK'][\"News Headline\"].fillna(df[df[\"Article category\"]==\"FOOD & DRINK\"][\"News Headline\"].mode()[0])\n",
    "df.loc[df[\"Article category\"]==\"TRAVEL\",\"News Headline\"]= df[df['Article category']=='TRAVEL'][\"News Headline\"].fillna(df[df[\"Article category\"]==\"TRAVEL\"][\"News Headline\"].mode()[0])\n",
    "df.loc[df[\"Article category\"]==\"COMEDY\",\"News Headline\"]= df[df['Article category']=='COMEDY'][\"News Headline\"].fillna(df[df[\"Article category\"]==\"COMEDY\"][\"News Headline\"].mode()[0])\n",
    "df.loc[df[\"Article category\"]==\"IMPACT\",\"News Headline\"]= df[df['Article category']=='IMPACT'][\"News Headline\"].fillna(df[df[\"Article category\"]==\"IMPACT\"][\"News Headline\"].mode()[0])\n",
    "df.loc[df[\"Article category\"]==\"HOME & LIVING\",\"News Headline\"]= df[df['Article category']=='HOME & LIVING'][\"News Headline\"].fillna(df[df[\"Article category\"]==\"HOME & LIVING\"][\"News Headline\"].mode()[0])\n",
    "df.loc[df[\"Article category\"]==\"BLACK VOICES\",\"News Headline\"]= df[df['Article category']=='BLACK VOICES'][\"News Headline\"].fillna(df[df[\"Article category\"]==\"BLACK VOICES\"][\"News Headline\"].mode()[0])\n",
    "df.loc[df[\"Article category\"]==\"PARENTING\",\"News Headline\"]= df[df['Article category']=='PARENTING'][\"News Headline\"].fillna(df[df[\"Article category\"]==\"PARENTING\"][\"News Headline\"].mode()[0])\n",
    "df.loc[df[\"Article category\"]==\"QUEER VOICES\",\"News Headline\"]= df[df['Article category']=='QUEER VOICES'][\"News Headline\"].fillna(df[df[\"Article category\"]==\"QUEER VOICES\"][\"News Headline\"].mode()[0])\n",
    "df.loc[df[\"Article category\"]==\"ENVIRONMENT\",\"News Headline\"]= df[df['Article category']=='ENVIRONMENT'][\"News Headline\"].fillna(df[df[\"Article category\"]==\"ENVIRONMENT\"][\"News Headline\"].mode()[0])\n",
    "df.loc[df[\"Article category\"]==\"WEIRD NEWS\",\"News Headline\"]= df[df['Article category']=='WEIRD NEWS'][\"News Headline\"].fillna(df[df[\"Article category\"]==\"WEIRD NEWS\"][\"News Headline\"].mode()[0])\n",
    "df.loc[df[\"Article category\"]==\"THE WORLDPOST\",\"News Headline\"]= df[df['Article category']=='THE WORLDPOST'][\"News Headline\"].fillna(df[df[\"Article category\"]==\"THE WORLDPOST\"][\"News Headline\"].mode()[0])\n",
    "df.loc[df[\"Article category\"]==\"HEALTHY LIVING\",\"News Headline\"]= df[df['Article category']=='HEALTHY LIVING'][\"News Headline\"].fillna(df[df[\"Article category\"]==\"HEALTHY LIVING\"][\"News Headline\"].mode()[0])\n",
    "df.loc[df[\"Article category\"]==\"SPORTS\",\"News Headline\"]= df[df['Article category']=='SPORTS'][\"News Headline\"].fillna(df[df[\"Article category\"]==\"SPORTS\"][\"News Headline\"].mode()[0])\n",
    "df.loc[df[\"Article category\"]==\"ENTERTAINMENT\",\"News Headline\"]= df[df['Article category']=='ENTERTAINMENT'][\"News Headline\"].fillna(df[df[\"Article category\"]==\"ENTERTAINMENT\"][\"News Headline\"].mode()[0])\n",
    "df.loc[df[\"Article category\"]==\"CRIME\",\"News Headline\"]= df[df['Article category']=='CRIME'][\"News Headline\"].fillna(df[df[\"Article category\"]==\"CRIME\"][\"News Headline\"].mode()[0])\n",
    "df.loc[df[\"Article category\"]==\"COLLEGE\",\"News Headline\"]= df[df['Article category']=='COLLEGE'][\"News Headline\"].fillna(df[df['Article category']=='COLLEGE']['News Headline'].mode()[0])\n",
    "df.loc[df[\"Article category\"]==\"MEDIA\",\"News Headline\"]= df[df['Article category']=='MEDIA'][\"News Headline\"].fillna(df[df[\"Article category\"]==\"MEDIA\"][\"News Headline\"].mode()[0])\n",
    "df.loc[df[\"Article category\"]==\"WOMEN\",\"News Headline\"]= df[df['Article category']=='WOMEN'][\"News Headline\"].fillna(df[df[\"Article category\"]==\"WOMEN\"][\"News Headline\"].mode()[0])\n",
    "df.loc[df[\"Article category\"]==\"ARTS & CULTURE\",\"News Headline\"]= df[df['Article category']=='ARTS & CULTURE'][\"News Headline\"].fillna(df[df[\"Article category\"]==\"ARTS & CULTURE\"][\"News Headline\"].mode()[0])\n",
    "df.loc[df['Article category']=='WELLNESS','News Headline']= df[df['Article category']=='WELLNESS']['News Headline'].fillna(df[df['Article category']=='WELLNESS']['News Headline'].mode()[0])\n",
    "df.loc[df['Article category']=='GOOD NEWS','News Headline']= df[df['Article category']=='GOOD NEWS']['News Headline'].fillna(df[df['Article category']=='GOOD NEWS']['News Headline'].mode()[0])\n",
    "df.loc[df['Article category']=='STYLE & BEAUTY','News Headline']= df[df['Article category']=='STYLE & BEAUTY']['News Headline'].fillna(df[df['Article category']=='STYLE & BEAUTY']['News Headline'].mode()[0])\n",
    "df.loc[df['Article category']=='DIVORCE','News Headline']= df[df['Article category']=='DIVORCE']['News Headline'].fillna(df[df['Article category']=='DIVORCE']['News Headline'].mode()[0])\n",
    "df.loc[df['Article category']=='RELIGION','News Headline']= df[df['Article category']=='RELIGION']['News Headline'].fillna(df[df['Article category']=='RELIGION']['News Headline'].mode()[0])\n",
    "df.loc[df['Article category']=='SCIENCE','News Headline']= df[df['Article category']=='SCIENCE']['News Headline'].fillna(df[df['Article category']=='SCIENCE']['News Headline'].mode()[0])\n",
    "df.loc[df['Article category']=='MONEY','News Headline']= df[df['Article category']=='MONEY']['News Headline'].fillna(df[df['Article category']=='MONEY']['News Headline'].mode()[0])\n",
    "df.loc[df['Article category']=='GREEN','News Headline']= df[df['Article category']=='GREEN']['News Headline'].fillna(df[df['Article category']=='GREEN']['News Headline'].mode()[0])\n",
    "df.loc[df['Article category']=='TASTE','News Headline']= df[df['Article category']=='TASTE']['News Headline'].fillna(df[df['Article category']=='TASTE']['News Headline'].mode()[0])\n",
    "df.loc[df['Article category']=='WORLD NEWS','News Headline']= df[df['Article category']=='WORLD NEWS']['News Headline'].fillna(df[df['Article category']=='WORLD NEWS']['News Headline'].mode()[0])\n",
    "df.loc[df['Article category']=='TECH','News Headline']= df[df['Article category']=='TECH']['News Headline'].fillna(df[df['Article category']=='TECH']['News Headline'].mode()[0])\n",
    "df.loc[df['Article category']=='LATINO VOICES','News Headline']= df[df['Article category']=='LATINO VOICES']['News Headline'].fillna(df[df['Article category']=='LATINO VOICES']['News Headline'].mode()[0])\n",
    "df.loc[df['Article category']=='EDUCATION','News Headline']= df[df['Article category']=='EDUCATION']['News Headline'].fillna(df[df['Article category']=='EDUCATION']['News Headline'].mode()[0])\n",
    "df.loc[df['Article category']=='FIFTY','News Headline']= df[df['Article category']=='FIFTY']['News Headline'].fillna(df[df['Article category']=='FIFTY']['News Headline'].mode()[0])"
   ]
  },
  {
   "cell_type": "code",
   "execution_count": 11,
   "metadata": {
    "id": "P3lbCqYI2h0f"
   },
   "outputs": [],
   "source": [
    "df.loc[df[\"Article category\"]==\"WEDDINGS\",\"Author\"]= df[df['Article category']=='WEDDINGS'][\"Author\"].replace(np.nan , \"No Author \")\n",
    "df.loc[df[\"Article category\"]==\"WELLNESS\",\"Author\"]= df[df['Article category']=='WELLNESS'][\"Author\"].fillna(df[df[\"Article category\"]==\"WELLNESS\"][\"Author\"].mode()[0])\n",
    "df.loc[df[\"Article category\"]==\"POLITICS\",\"Author\"]= df[df['Article category']=='POLITICS'][\"Author\"].fillna(df[df[\"Article category\"]==\"POLITICS\"][\"Author\"].mode()[0])\n",
    "df.loc[df[\"Article category\"]==\"PARENTS\",\"Author\"]= df[df['Article category']=='PARENTS'][\"Author\"].fillna(df[df[\"Article category\"]==\"PARENTS\"][\"Author\"].mode()[0])\n",
    "df.loc[df[\"Article category\"]==\"BUSINESS\",\"Author\"]= df[df['Article category']=='BUSINESS'][\"Author\"].fillna(df[df[\"Article category\"]==\"BUSINESS\"][\"Author\"].mode()[0])\n",
    "df.loc[df[\"Article category\"]==\"FOOD & DRINK\",\"Author\"]= df[df['Article category']=='FOOD & DRINK'][\"Author\"].fillna(df[df[\"Article category\"]==\"FOOD & DRINK\"][\"Author\"].mode()[0])\n",
    "df.loc[df[\"Article category\"]==\"TRAVEL\",\"Author\"]= df[df['Article category']=='TRAVEL'][\"Author\"].fillna(df[df[\"Article category\"]==\"TRAVEL\"][\"Author\"].mode()[0])\n",
    "df.loc[df[\"Article category\"]==\"COMEDY\",\"Author\"]= df[df['Article category']=='COMEDY'][\"Author\"].fillna(df[df[\"Article category\"]==\"COMEDY\"][\"Author\"].mode()[0])\n",
    "df.loc[df[\"Article category\"]==\"IMPACT\",\"Author\"]= df[df['Article category']=='IMPACT'][\"Author\"].fillna(df[df[\"Article category\"]==\"IMPACT\"][\"Author\"].mode()[0])\n",
    "df.loc[df[\"Article category\"]==\"HOME & LIVING\",\"Author\"]= df[df['Article category']=='HOME & LIVING'][\"Author\"].fillna(df[df[\"Article category\"]==\"HOME & LIVING\"][\"Author\"].mode()[0])\n",
    "df.loc[df[\"Article category\"]==\"BLACK VOICES\",\"Author\"]= df[df['Article category']=='BLACK VOICES'][\"Author\"].fillna(df[df[\"Article category\"]==\"BLACK VOICES\"][\"Author\"].mode()[0])\n",
    "df.loc[df[\"Article category\"]==\"PARENTING\",\"Author\"]= df[df['Article category']=='PARENTING'][\"Author\"].fillna(df[df[\"Article category\"]==\"PARENTING\"][\"Author\"].mode()[0])\n",
    "df.loc[df[\"Article category\"]==\"QUEER VOICES\",\"Author\"]= df[df['Article category']=='QUEER VOICES'][\"Author\"].fillna(df[df[\"Article category\"]==\"QUEER VOICES\"][\"Author\"].mode()[0])\n",
    "df.loc[df[\"Article category\"]==\"ENVIRONMENT\",\"Author\"]= df[df['Article category']=='ENVIRONMENT'][\"Author\"].fillna(df[df[\"Article category\"]==\"ENVIRONMENT\"][\"Author\"].mode()[0])\n",
    "df.loc[df[\"Article category\"]==\"WEIRD NEWS\",\"Author\"]= df[df['Article category']=='WEIRD NEWS'][\"Author\"].fillna(df[df[\"Article category\"]==\"WEIRD NEWS\"][\"Author\"].mode()[0])\n",
    "df.loc[df[\"Article category\"]==\"THE WORLDPOST\",\"Author\"]= df[df['Article category']=='THE WORLDPOST'][\"Author\"].fillna(df[df[\"Article category\"]==\"THE WORLDPOST\"][\"Author\"].mode()[0])\n",
    "df.loc[df[\"Article category\"]==\"HEALTHY LIVING\",\"Author\"]= df[df['Article category']=='HEALTHY LIVING'][\"Author\"].fillna(df[df[\"Article category\"]==\"HEALTHY LIVING\"][\"Author\"].mode()[0])\n",
    "df.loc[df[\"Article category\"]==\"SPORTS\",\"Author\"]= df[df['Article category']=='SPORTS'][\"Author\"].fillna(df[df[\"Article category\"]==\"SPORTS\"][\"Author\"].mode()[0])\n",
    "df.loc[df[\"Article category\"]==\"ENTERTAINMENT\",\"Author\"]= df[df['Article category']=='ENTERTAINMENT'][\"Author\"].fillna(df[df[\"Article category\"]==\"ENTERTAINMENT\"][\"Author\"].mode()[0])\n",
    "df.loc[df[\"Article category\"]==\"CRIME\",\"Author\"]= df[df['Article category']=='CRIME'][\"Author\"].fillna(df[df[\"Article category\"]==\"CRIME\"][\"Author\"].mode()[0])\n",
    "df.loc[df[\"Article category\"]==\"COLLEGE\",\"Author\"]= df[df['Article category']=='COLLEGE'][\"Author\"].fillna(df[df['Article category']=='COLLEGE']['Author'].mode()[0])#replace(np.nan,\"no Author\")\n",
    "df.loc[df[\"Article category\"]==\"MEDIA\",\"Author\"]= df[df['Article category']=='MEDIA'][\"Author\"].fillna(df[df[\"Article category\"]==\"MEDIA\"][\"Author\"].mode()[0])\n",
    "df.loc[df[\"Article category\"]==\"WOMEN\",\"Author\"]= df[df['Article category']=='WOMEN'][\"Author\"].fillna(df[df[\"Article category\"]==\"WOMEN\"][\"Author\"].mode()[0])\n",
    "df.loc[df[\"Article category\"]==\"ARTS & CULTURE\",\"Author\"]= df[df['Article category']=='ARTS & CULTURE'][\"Author\"].fillna(df[df[\"Article category\"]==\"ARTS & CULTURE\"][\"Author\"].mode()[0])\n",
    "df.loc[df['Article category']=='WELLNESS','Author']= df[df['Article category']=='WELLNESS']['Author'].fillna(df[df['Article category']=='WELLNESS']['Author'].mode()[0])\n",
    "df.loc[df['Article category']=='GOOD NEWS','Author']= df[df['Article category']=='GOOD NEWS']['Author'].fillna(df[df['Article category']=='GOOD NEWS']['Author'].mode()[0])\n",
    "df.loc[df['Article category']=='STYLE & BEAUTY','Author']= df[df['Article category']=='STYLE & BEAUTY']['Author'].fillna(df[df['Article category']=='STYLE & BEAUTY']['Author'].mode()[0])\n",
    "df.loc[df['Article category']=='DIVORCE','Author']= df[df['Article category']=='DIVORCE']['Author'].fillna(df[df['Article category']=='DIVORCE']['Author'].mode()[0])\n",
    "df.loc[df['Article category']=='RELIGION','Author']= df[df['Article category']=='RELIGION']['Author'].fillna(df[df['Article category']=='RELIGION']['Author'].mode()[0])\n",
    "df.loc[df['Article category']=='SCIENCE','Author']= df[df['Article category']=='SCIENCE']['Author'].fillna(df[df['Article category']=='SCIENCE']['Author'].mode()[0])\n",
    "df.loc[df['Article category']=='MONEY','Author']= df[df['Article category']=='MONEY']['Author'].fillna(df[df['Article category']=='MONEY']['Author'].mode()[0])\n",
    "df.loc[df['Article category']=='GREEN','Author']= df[df['Article category']=='GREEN']['Author'].fillna(df[df['Article category']=='GREEN']['Author'].mode()[0])\n",
    "df.loc[df['Article category']=='TASTE','Author']= df[df['Article category']=='TASTE']['Author'].fillna(df[df['Article category']=='TASTE']['Author'].mode()[0])\n",
    "df.loc[df['Article category']=='WORLD NEWS','Author']= df[df['Article category']=='WORLD NEWS']['Author'].fillna(df[df['Article category']=='WORLD NEWS']['Author'].mode()[0])#replace(np.nan, 'no Author')\n",
    "df.loc[df['Article category']=='TECH','Author']= df[df['Article category']=='TECH']['Author'].fillna(df[df['Article category']=='TECH']['Author'].mode()[0])\n",
    "df.loc[df['Article category']=='LATINO VOICES','Author']= df[df['Article category']=='LATINO VOICES']['Author'].fillna(df[df['Article category']=='LATINO VOICES']['Author'].mode()[0])\n",
    "df.loc[df['Article category']=='EDUCATION','Author']= df[df['Article category']=='EDUCATION']['Author'].fillna(df[df['Article category']=='EDUCATION']['Author'].mode()[0])\n",
    "df.loc[df['Article category']=='FIFTY','Author']= df[df['Article category']=='FIFTY']['Author'].fillna(df[df['Article category']=='FIFTY']['Author'].mode()[0])"
   ]
  },
  {
   "cell_type": "code",
   "execution_count": 12,
   "metadata": {
    "id": "lh0m_74RCMFL"
   },
   "outputs": [],
   "source": [
    "#df[df['Article category']=='WORLDPOST']['short_description'].isnull().sum()"
   ]
  },
  {
   "cell_type": "code",
   "execution_count": 13,
   "metadata": {
    "colab": {
     "base_uri": "https://localhost:8080/"
    },
    "id": "wNC28KI7QD9e",
    "outputId": "20cedb67-22bd-404a-aae1-e0b56120cc79"
   },
   "outputs": [
    {
     "data": {
      "text/plain": [
       "Article category     0\n",
       "News Headline        0\n",
       "Author               0\n",
       "news_link            0\n",
       "short_description    0\n",
       "date                 0\n",
       "dtype: int64"
      ]
     },
     "execution_count": 13,
     "metadata": {},
     "output_type": "execute_result"
    }
   ],
   "source": [
    "# After fillin the null values, lets check the the null values again \n",
    "df.isnull().sum()"
   ]
  },
  {
   "cell_type": "markdown",
   "metadata": {
    "id": "YisLQDuWQMs7"
   },
   "source": [
    "Normalizing the data "
   ]
  },
  {
   "cell_type": "code",
   "execution_count": 14,
   "metadata": {
    "colab": {
     "base_uri": "https://localhost:8080/"
    },
    "id": "D15uH6y7_Hxs",
    "outputId": "078d0a02-7f58-4e19-8d5a-688b048de9fa"
   },
   "outputs": [
    {
     "name": "stdout",
     "output_type": "stream",
     "text": [
      "Article category     object\n",
      "News Headline        object\n",
      "Author               object\n",
      "news_link            object\n",
      "short_description    object\n",
      "date                 object\n",
      "dtype: object\n",
      "date category no. is in datetime format\n",
      "Article category             object\n",
      "News Headline                object\n",
      "Author                       object\n",
      "news_link                    object\n",
      "short_description            object\n",
      "date                 datetime64[ns]\n",
      "dtype: object\n"
     ]
    }
   ],
   "source": [
    "print(df.dtypes)\n",
    "#here date need to in datetime format \n",
    "\n",
    "df.date = pd.to_datetime(df.date)\n",
    "print(\"date category no. is in datetime format\")\n",
    "print(df.dtypes)"
   ]
  },
  {
   "cell_type": "code",
   "execution_count": 15,
   "metadata": {
    "colab": {
     "base_uri": "https://localhost:8080/",
     "height": 703
    },
    "id": "dCVIVExIVxZI",
    "outputId": "2adeacc1-7131-40cc-cd4d-9937c2529842"
   },
   "outputs": [
    {
     "name": "stderr",
     "output_type": "stream",
     "text": [
      "C:\\Users\\asus\\anaconda3\\lib\\site-packages\\seaborn\\_decorators.py:36: FutureWarning: Pass the following variable as a keyword arg: x. From version 0.12, the only valid positional argument will be `data`, and passing other arguments without an explicit keyword will result in an error or misinterpretation.\n",
      "  warnings.warn(\n"
     ]
    },
    {
     "data": {
      "text/plain": [
       "Text(0.5, 0.98, 'number of articles (for each category)')"
      ]
     },
     "execution_count": 15,
     "metadata": {},
     "output_type": "execute_result"
    },
    {
     "data": {
      "image/png": "[encoded data removed]",
      "text/plain": [
       "<Figure size 576x576 with 1 Axes>"
      ]
     },
     "metadata": {
      "needs_background": "light"
     },
     "output_type": "display_data"
    }
   ],
   "source": [
    "fig = plt.figure(figsize = (8,8))\n",
    "sns.countplot(df[\"Article category\"])\n",
    "plt.xticks(rotation = 90)\n",
    "fig.suptitle(\"number of articles (for each category)\")\n",
    "\n",
    "\n",
    "#From this count plot we can draw the following conclusion:\n",
    "      #POLITICS and WELLNESS has seem to have most no. of articles.\n",
    "      #very less articles are from the category EDUCATION."
   ]
  },
  {
   "cell_type": "code",
   "execution_count": 16,
   "metadata": {
    "id": "GfmASysXiJwy"
   },
   "outputs": [],
   "source": [
    "#Grouping the Article category based by date. \n",
    "\n",
    "date_by_category = df.groupby([\"date\"])[\"Article category\"].count().reset_index()  "
   ]
  },
  {
   "cell_type": "code",
   "execution_count": 17,
   "metadata": {
    "colab": {
     "base_uri": "https://localhost:8080/",
     "height": 351
    },
    "id": "FHTUrBJCjVE3",
    "outputId": "552dd67b-0c02-4dac-bfaa-fc4c54fc1418"
   },
   "outputs": [
    {
     "name": "stderr",
     "output_type": "stream",
     "text": [
      "C:\\Users\\asus\\anaconda3\\lib\\site-packages\\seaborn\\_decorators.py:36: FutureWarning: Pass the following variables as keyword args: x, y. From version 0.12, the only valid positional argument will be `data`, and passing other arguments without an explicit keyword will result in an error or misinterpretation.\n",
      "  warnings.warn(\n"
     ]
    },
    {
     "data": {
      "text/plain": [
       "<AxesSubplot:xlabel='year', ylabel='number_of articles'>"
      ]
     },
     "execution_count": 17,
     "metadata": {},
     "output_type": "execute_result"
    },
    {
     "data": {
      "image/png": "[encoded data removed]",
      "text/plain": [
       "<Figure size 432x288 with 1 Axes>"
      ]
     },
     "metadata": {
      "needs_background": "light"
     },
     "output_type": "display_data"
    }
   ],
   "source": [
    "year = date_by_category.date.apply(lambda x: datetime.date(x).year)\n",
    "articles_per_year=year.value_counts().reset_index()\n",
    "articles_per_year.columns=['year','number_of articles']\n",
    "sns.barplot(articles_per_year.year,articles_per_year['number_of articles'],data=articles_per_year)\n",
    "\n",
    "#From this barplot of years we can draw the following conclusions:\n",
    "# years from 2012 to 2015 had most articles \n",
    "# while 2018 had the least articles\n"
   ]
  },
  {
   "cell_type": "code",
   "execution_count": 18,
   "metadata": {
    "colab": {
     "base_uri": "https://localhost:8080/",
     "height": 352
    },
    "id": "0gT6sDvY43OM",
    "outputId": "75a2826e-593d-4adc-e23e-57a1f9eeb8fa"
   },
   "outputs": [
    {
     "name": "stderr",
     "output_type": "stream",
     "text": [
      "C:\\Users\\asus\\anaconda3\\lib\\site-packages\\seaborn\\_decorators.py:36: FutureWarning: Pass the following variables as keyword args: x, y. From version 0.12, the only valid positional argument will be `data`, and passing other arguments without an explicit keyword will result in an error or misinterpretation.\n",
      "  warnings.warn(\n"
     ]
    },
    {
     "data": {
      "text/plain": [
       "<AxesSubplot:xlabel='month_num', ylabel='number_of articles'>"
      ]
     },
     "execution_count": 18,
     "metadata": {},
     "output_type": "execute_result"
    },
    {
     "data": {
      "image/png": "[encoded data removed]",
      "text/plain": [
       "<Figure size 432x288 with 1 Axes>"
      ]
     },
     "metadata": {
      "needs_background": "light"
     },
     "output_type": "display_data"
    }
   ],
   "source": [
    "month= date_by_category.date.apply(lambda x: datetime.date(x).month)\n",
    "articles_per_month=month.value_counts().reset_index()\n",
    "articles_per_month.columns=['month_num','number_of articles']\n",
    "sns.barplot(articles_per_month['month_num'],articles_per_month['number_of articles'],data=articles_per_month)\n",
    "\n",
    "# From this barplot of months we can draw the following conclusions:\n",
    "# Arpil, May, October have most no. of articles.\n",
    "# January and Febuary has least no. of artilces."
   ]
  },
  {
   "cell_type": "code",
   "execution_count": 19,
   "metadata": {
    "colab": {
     "base_uri": "https://localhost:8080/",
     "height": 352
    },
    "id": "L5wVdh6YUhpJ",
    "outputId": "9e349bce-17a9-4e30-e4c9-f7c20d6ce9c7"
   },
   "outputs": [
    {
     "name": "stderr",
     "output_type": "stream",
     "text": [
      "C:\\Users\\asus\\anaconda3\\lib\\site-packages\\seaborn\\_decorators.py:36: FutureWarning: Pass the following variables as keyword args: x, y. From version 0.12, the only valid positional argument will be `data`, and passing other arguments without an explicit keyword will result in an error or misinterpretation.\n",
      "  warnings.warn(\n"
     ]
    },
    {
     "data": {
      "text/plain": [
       "<AxesSubplot:xlabel='day_num', ylabel='number_of_articles'>"
      ]
     },
     "execution_count": 19,
     "metadata": {},
     "output_type": "execute_result"
    },
    {
     "data": {
      "image/png": "[encoded data removed]",
      "text/plain": [
       "<Figure size 432x288 with 1 Axes>"
      ]
     },
     "metadata": {
      "needs_background": "light"
     },
     "output_type": "display_data"
    }
   ],
   "source": [
    "day = date_by_category.date.apply(lambda x : datetime.date(x).day)\n",
    "articles_per_day = day.value_counts().reset_index()\n",
    "articles_per_day.columns = [\"day_num\",\"number_of_articles\"]\n",
    "sns.barplot(articles_per_day['day_num'],articles_per_day['number_of_articles'],data = articles_per_day)\n",
    "\n",
    "\n",
    "# From the barplot we can draw the following conclusions:\n",
    "# 5th , 8th and 28th of every month have most no. of articles.\n",
    "# while 1st and 31st of every month have least no. of articles. "
   ]
  },
  {
   "cell_type": "code",
   "execution_count": 20,
   "metadata": {
    "id": "az95coxJcmBs"
   },
   "outputs": [],
   "source": [
    "# Merging short_description, News Headline and Author for News length and further process.\n",
    "\n",
    "df[\"text\"] = df[\"short_description\"]+ df[\"News Headline\"] + df[\"Author\"]\n"
   ]
  },
  {
   "cell_type": "code",
   "execution_count": 21,
   "metadata": {
    "id": "mv00FxmEbPfT"
   },
   "outputs": [],
   "source": [
    "#Finding the length of News article \n",
    "\n",
    "df['News_length']= df.text.str.len() \n",
    "df['News_length']=df['News_length'].astype(int)"
   ]
  },
  {
   "cell_type": "code",
   "execution_count": 22,
   "metadata": {
    "colab": {
     "base_uri": "https://localhost:8080/"
    },
    "id": "nZd-9_4Jbr4F",
    "outputId": "2a6abbe5-21b1-4e6f-ff87-535f1d7fdc9a"
   },
   "outputs": [
    {
     "data": {
      "text/plain": [
       "0       183\n",
       "1       235\n",
       "2       169\n",
       "3       213\n",
       "4       229\n",
       "       ... \n",
       "9995    200\n",
       "9996    192\n",
       "9997     62\n",
       "9998    178\n",
       "9999    169\n",
       "Name: News_length, Length: 10000, dtype: int32"
      ]
     },
     "execution_count": 22,
     "metadata": {},
     "output_type": "execute_result"
    }
   ],
   "source": [
    "df[\"News_length\"]"
   ]
  },
  {
   "cell_type": "markdown",
   "metadata": {
    "id": "jjBGThiVfQe3"
   },
   "source": [
    "#Distplot of column News_length "
   ]
  },
  {
   "cell_type": "code",
   "execution_count": 23,
   "metadata": {
    "colab": {
     "base_uri": "https://localhost:8080/",
     "height": 0
    },
    "id": "XnEv_xfncCTe",
    "outputId": "be1a5bc0-e6ca-4e42-dae6-a3cd1fe241db"
   },
   "outputs": [
    {
     "data": {
      "text/plain": [
       "<seaborn.axisgrid.FacetGrid at 0x2ad84fa7100>"
      ]
     },
     "execution_count": 23,
     "metadata": {},
     "output_type": "execute_result"
    },
    {
     "data": {
      "image/png": "[encoded data removed]",
      "text/plain": [
       "<Figure size 360x360 with 1 Axes>"
      ]
     },
     "metadata": {
      "needs_background": "light"
     },
     "output_type": "display_data"
    }
   ],
   "source": [
    "sns.displot(df['News_length'])\n"
   ]
  },
  {
   "cell_type": "markdown",
   "metadata": {
    "id": "BkEgmRdxgBoR"
   },
   "source": [
    "Most number of article had article length around 170 to 180 and least number of articles had news length of around 130 to 140\n",
    "\n",
    "Normalizing The data"
   ]
  },
  {
   "cell_type": "code",
   "execution_count": 24,
   "metadata": {
    "id": "CIxXhx_mcGOu"
   },
   "outputs": [],
   "source": [
    "df = df.reset_index(drop = True) "
   ]
  },
  {
   "cell_type": "code",
   "execution_count": 25,
   "metadata": {
    "id": "T1-HhhEuOQfY"
   },
   "outputs": [],
   "source": [
    "# Converting all the text into lowercase\n",
    "\n",
    "df['Article category']=df['Article category'].str.lower()\n",
    "df[\"News Headline\"] = df[\"News Headline\"].str.lower()\n",
    "df['Author'] = df['Author'].str.lower()\n",
    "df[\"news_link\"] = df[\"news_link\"].str.lower()\n",
    "df[\"short_description\"] = df[\"short_description\"].str.lower()\n",
    "df[\"text\"] = df[\"text\"].str.lower()"
   ]
  },
  {
   "cell_type": "code",
   "execution_count": 26,
   "metadata": {
    "colab": {
     "base_uri": "https://localhost:8080/",
     "height": 0
    },
    "id": "HzvapNgJZ0wy",
    "outputId": "f58f1d04-6a12-4d72-981d-7738931c849f"
   },
   "outputs": [
    {
     "data": {
      "text/html": [
       "<div>\n",
       "<style scoped>\n",
       "    .dataframe tbody tr th:only-of-type {\n",
       "        vertical-align: middle;\n",
       "    }\n",
       "\n",
       "    .dataframe tbody tr th {\n",
       "        vertical-align: top;\n",
       "    }\n",
       "\n",
       "    .dataframe thead th {\n",
       "        text-align: right;\n",
       "    }\n",
       "</style>\n",
       "<table border=\"1\" class=\"dataframe\">\n",
       "  <thead>\n",
       "    <tr style=\"text-align: right;\">\n",
       "      <th></th>\n",
       "      <th>Article category</th>\n",
       "      <th>News Headline</th>\n",
       "      <th>Author</th>\n",
       "      <th>news_link</th>\n",
       "      <th>short_description</th>\n",
       "      <th>date</th>\n",
       "      <th>text</th>\n",
       "      <th>News_length</th>\n",
       "    </tr>\n",
       "  </thead>\n",
       "  <tbody>\n",
       "    <tr>\n",
       "      <th>0</th>\n",
       "      <td>weddings</td>\n",
       "      <td>real weddings: couples who got married this we...</td>\n",
       "      <td>no author</td>\n",
       "      <td>_rare_</td>\n",
       "      <td>if there's ever a time you need a little distr...</td>\n",
       "      <td>2013-07-29</td>\n",
       "      <td>if there's ever a time you need a little distr...</td>\n",
       "      <td>183</td>\n",
       "    </tr>\n",
       "    <tr>\n",
       "      <th>1</th>\n",
       "      <td>wellness</td>\n",
       "      <td>the moment i knew</td>\n",
       "      <td>meimei fox, contributor\\nnytimes bestselling a...</td>\n",
       "      <td>_rare_</td>\n",
       "      <td>kids may say the darndest things, but parents ...</td>\n",
       "      <td>2013-02-05</td>\n",
       "      <td>kids may say the darndest things, but parents ...</td>\n",
       "      <td>235</td>\n",
       "    </tr>\n",
       "    <tr>\n",
       "      <th>2</th>\n",
       "      <td>politics</td>\n",
       "      <td>sunday roundup</td>\n",
       "      <td>arianna huffington, contributor</td>\n",
       "      <td>_rare_</td>\n",
       "      <td>to receive the ebay roundup of vintage home fi...</td>\n",
       "      <td>2015-01-17</td>\n",
       "      <td>to receive the ebay roundup of vintage home fi...</td>\n",
       "      <td>169</td>\n",
       "    </tr>\n",
       "    <tr>\n",
       "      <th>3</th>\n",
       "      <td>parents</td>\n",
       "      <td>funniest parenting tweets: what moms and dads ...</td>\n",
       "      <td>hollis miller</td>\n",
       "      <td>_rare_</td>\n",
       "      <td>kids may say the darndest things, but parents ...</td>\n",
       "      <td>2016-07-15</td>\n",
       "      <td>kids may say the darndest things, but parents ...</td>\n",
       "      <td>213</td>\n",
       "    </tr>\n",
       "    <tr>\n",
       "      <th>4</th>\n",
       "      <td>business</td>\n",
       "      <td>watch: 60 seconds of social media</td>\n",
       "      <td>shawn amos, contributor\\nblues preacher | cont...</td>\n",
       "      <td>_rare_</td>\n",
       "      <td>so, you think you're a real fashionista, hmm? ...</td>\n",
       "      <td>2012-08-18</td>\n",
       "      <td>so, you think you're a real fashionista, hmm? ...</td>\n",
       "      <td>229</td>\n",
       "    </tr>\n",
       "  </tbody>\n",
       "</table>\n",
       "</div>"
      ],
      "text/plain": [
       "  Article category                                      News Headline  \\\n",
       "0         weddings  real weddings: couples who got married this we...   \n",
       "1         wellness                                  the moment i knew   \n",
       "2         politics                                     sunday roundup   \n",
       "3          parents  funniest parenting tweets: what moms and dads ...   \n",
       "4         business                  watch: 60 seconds of social media   \n",
       "\n",
       "                                              Author news_link  \\\n",
       "0                                         no author     _rare_   \n",
       "1  meimei fox, contributor\\nnytimes bestselling a...    _rare_   \n",
       "2                    arianna huffington, contributor    _rare_   \n",
       "3                                      hollis miller    _rare_   \n",
       "4  shawn amos, contributor\\nblues preacher | cont...    _rare_   \n",
       "\n",
       "                                   short_description       date  \\\n",
       "0  if there's ever a time you need a little distr... 2013-07-29   \n",
       "1  kids may say the darndest things, but parents ... 2013-02-05   \n",
       "2  to receive the ebay roundup of vintage home fi... 2015-01-17   \n",
       "3  kids may say the darndest things, but parents ... 2016-07-15   \n",
       "4  so, you think you're a real fashionista, hmm? ... 2012-08-18   \n",
       "\n",
       "                                                text  News_length  \n",
       "0  if there's ever a time you need a little distr...          183  \n",
       "1  kids may say the darndest things, but parents ...          235  \n",
       "2  to receive the ebay roundup of vintage home fi...          169  \n",
       "3  kids may say the darndest things, but parents ...          213  \n",
       "4  so, you think you're a real fashionista, hmm? ...          229  "
      ]
     },
     "execution_count": 26,
     "metadata": {},
     "output_type": "execute_result"
    }
   ],
   "source": [
    "df.head()"
   ]
  },
  {
   "cell_type": "code",
   "execution_count": 27,
   "metadata": {
    "id": "hE5HK09ZiaMO"
   },
   "outputs": [],
   "source": [
    "#splitting the author column just to clean the Author column text.\n",
    "\n",
    "df[\"Author\"] = df[\"Author\"].str.split(\",\").str[0]"
   ]
  },
  {
   "cell_type": "markdown",
   "metadata": {
    "id": "NgExvgR5qzwj"
   },
   "source": [
    "# Removing puntuation"
   ]
  },
  {
   "cell_type": "code",
   "execution_count": 28,
   "metadata": {
    "colab": {
     "base_uri": "https://localhost:8080/",
     "height": 0
    },
    "id": "40ng0TdqiArL",
    "outputId": "dc76be74-4644-4fb1-8fbb-cb37919fd68d"
   },
   "outputs": [
    {
     "data": {
      "text/plain": [
       "'!\"#$%&\\'()*+,-./:;<=>?@[\\\\]^_`{|}~'"
      ]
     },
     "execution_count": 28,
     "metadata": {},
     "output_type": "execute_result"
    }
   ],
   "source": [
    " string.punctuation"
   ]
  },
  {
   "cell_type": "code",
   "execution_count": 29,
   "metadata": {
    "colab": {
     "base_uri": "https://localhost:8080/",
     "height": 0
    },
    "id": "kLrzsFiGRdlc",
    "outputId": "da74ee84-53b9-493b-da24-a435fd56f95b"
   },
   "outputs": [
    {
     "data": {
      "text/html": [
       "<div>\n",
       "<style scoped>\n",
       "    .dataframe tbody tr th:only-of-type {\n",
       "        vertical-align: middle;\n",
       "    }\n",
       "\n",
       "    .dataframe tbody tr th {\n",
       "        vertical-align: top;\n",
       "    }\n",
       "\n",
       "    .dataframe thead th {\n",
       "        text-align: right;\n",
       "    }\n",
       "</style>\n",
       "<table border=\"1\" class=\"dataframe\">\n",
       "  <thead>\n",
       "    <tr style=\"text-align: right;\">\n",
       "      <th></th>\n",
       "      <th>Article category</th>\n",
       "      <th>News Headline</th>\n",
       "      <th>Author</th>\n",
       "      <th>news_link</th>\n",
       "      <th>short_description</th>\n",
       "      <th>date</th>\n",
       "      <th>text</th>\n",
       "      <th>News_length</th>\n",
       "    </tr>\n",
       "  </thead>\n",
       "  <tbody>\n",
       "    <tr>\n",
       "      <th>0</th>\n",
       "      <td>weddings</td>\n",
       "      <td>real weddings couples who got married this wee...</td>\n",
       "      <td>no author</td>\n",
       "      <td>rare</td>\n",
       "      <td>if theres ever a time you need a little distra...</td>\n",
       "      <td>2013-07-29</td>\n",
       "      <td>if there's ever a time you need a little distr...</td>\n",
       "      <td>183</td>\n",
       "    </tr>\n",
       "    <tr>\n",
       "      <th>1</th>\n",
       "      <td>wellness</td>\n",
       "      <td>the moment i knew</td>\n",
       "      <td>meimei fox</td>\n",
       "      <td>rare</td>\n",
       "      <td>kids may say the darndest things but parents t...</td>\n",
       "      <td>2013-02-05</td>\n",
       "      <td>kids may say the darndest things, but parents ...</td>\n",
       "      <td>235</td>\n",
       "    </tr>\n",
       "    <tr>\n",
       "      <th>2</th>\n",
       "      <td>politics</td>\n",
       "      <td>sunday roundup</td>\n",
       "      <td>arianna huffington</td>\n",
       "      <td>rare</td>\n",
       "      <td>to receive the ebay roundup of vintage home fi...</td>\n",
       "      <td>2015-01-17</td>\n",
       "      <td>to receive the ebay roundup of vintage home fi...</td>\n",
       "      <td>169</td>\n",
       "    </tr>\n",
       "    <tr>\n",
       "      <th>3</th>\n",
       "      <td>parents</td>\n",
       "      <td>funniest parenting tweets what moms and dads s...</td>\n",
       "      <td>hollis miller</td>\n",
       "      <td>rare</td>\n",
       "      <td>kids may say the darndest things but parents t...</td>\n",
       "      <td>2016-07-15</td>\n",
       "      <td>kids may say the darndest things, but parents ...</td>\n",
       "      <td>213</td>\n",
       "    </tr>\n",
       "    <tr>\n",
       "      <th>4</th>\n",
       "      <td>business</td>\n",
       "      <td>watch 60 seconds of social media</td>\n",
       "      <td>shawn amos</td>\n",
       "      <td>rare</td>\n",
       "      <td>so you think youre a real fashionista hmm well...</td>\n",
       "      <td>2012-08-18</td>\n",
       "      <td>so, you think you're a real fashionista, hmm? ...</td>\n",
       "      <td>229</td>\n",
       "    </tr>\n",
       "  </tbody>\n",
       "</table>\n",
       "</div>"
      ],
      "text/plain": [
       "  Article category                                      News Headline  \\\n",
       "0         weddings  real weddings couples who got married this wee...   \n",
       "1         wellness                                  the moment i knew   \n",
       "2         politics                                     sunday roundup   \n",
       "3          parents  funniest parenting tweets what moms and dads s...   \n",
       "4         business                   watch 60 seconds of social media   \n",
       "\n",
       "               Author news_link  \\\n",
       "0          no author       rare   \n",
       "1          meimei fox      rare   \n",
       "2  arianna huffington      rare   \n",
       "3       hollis miller      rare   \n",
       "4          shawn amos      rare   \n",
       "\n",
       "                                   short_description       date  \\\n",
       "0  if theres ever a time you need a little distra... 2013-07-29   \n",
       "1  kids may say the darndest things but parents t... 2013-02-05   \n",
       "2  to receive the ebay roundup of vintage home fi... 2015-01-17   \n",
       "3  kids may say the darndest things but parents t... 2016-07-15   \n",
       "4  so you think youre a real fashionista hmm well... 2012-08-18   \n",
       "\n",
       "                                                text  News_length  \n",
       "0  if there's ever a time you need a little distr...          183  \n",
       "1  kids may say the darndest things, but parents ...          235  \n",
       "2  to receive the ebay roundup of vintage home fi...          169  \n",
       "3  kids may say the darndest things, but parents ...          213  \n",
       "4  so, you think you're a real fashionista, hmm? ...          229  "
      ]
     },
     "execution_count": 29,
     "metadata": {},
     "output_type": "execute_result"
    }
   ],
   "source": [
    "def punctuation_removal(messy_str):\n",
    "  clean_list = [char for char in messy_str if char not in string.punctuation]\n",
    "  clean_str = ''.join(clean_list)\n",
    "  return clean_str\n",
    "df['News Headline'] = df[\"News Headline\"].apply(punctuation_removal)\n",
    "df['Author'] = df['Author'].apply(punctuation_removal)\n",
    "df['news_link'] = df['news_link'].apply(punctuation_removal)\n",
    "df['Article category'] = df['Article category'].apply(punctuation_removal)\n",
    "df['short_description'] = df['short_description'].apply(punctuation_removal)\n",
    "df.head()\n"
   ]
  },
  {
   "cell_type": "code",
   "execution_count": 30,
   "metadata": {
    "colab": {
     "base_uri": "https://localhost:8080/"
    },
    "id": "3scfz41tSclP",
    "outputId": "66087142-182f-44a1-855c-a8e2df3af7b2"
   },
   "outputs": [
    {
     "name": "stderr",
     "output_type": "stream",
     "text": [
      "[nltk_data] Downloading package stopwords to\n",
      "[nltk_data]     C:\\Users\\asus\\AppData\\Roaming\\nltk_data...\n",
      "[nltk_data]   Package stopwords is already up-to-date!\n",
      "[nltk_data] Downloading package punkt to\n",
      "[nltk_data]     C:\\Users\\asus\\AppData\\Roaming\\nltk_data...\n",
      "[nltk_data]   Package punkt is already up-to-date!\n"
     ]
    },
    {
     "data": {
      "text/plain": [
       "True"
      ]
     },
     "execution_count": 30,
     "metadata": {},
     "output_type": "execute_result"
    }
   ],
   "source": [
    "# Downloading packages for removing stopwords \n",
    "\n",
    "nltk.download('stopwords')\n",
    "nltk.download('punkt')"
   ]
  },
  {
   "cell_type": "code",
   "execution_count": 31,
   "metadata": {
    "colab": {
     "base_uri": "https://localhost:8080/",
     "height": 0
    },
    "id": "Z7b8eXnjVuSv",
    "outputId": "8d8e8162-f988-458c-97be-e4a2593ce674"
   },
   "outputs": [
    {
     "data": {
      "text/html": [
       "<div>\n",
       "<style scoped>\n",
       "    .dataframe tbody tr th:only-of-type {\n",
       "        vertical-align: middle;\n",
       "    }\n",
       "\n",
       "    .dataframe tbody tr th {\n",
       "        vertical-align: top;\n",
       "    }\n",
       "\n",
       "    .dataframe thead th {\n",
       "        text-align: right;\n",
       "    }\n",
       "</style>\n",
       "<table border=\"1\" class=\"dataframe\">\n",
       "  <thead>\n",
       "    <tr style=\"text-align: right;\">\n",
       "      <th></th>\n",
       "      <th>Article category</th>\n",
       "      <th>News Headline</th>\n",
       "      <th>Author</th>\n",
       "      <th>news_link</th>\n",
       "      <th>short_description</th>\n",
       "      <th>date</th>\n",
       "      <th>text</th>\n",
       "      <th>News_length</th>\n",
       "    </tr>\n",
       "  </thead>\n",
       "  <tbody>\n",
       "    <tr>\n",
       "      <th>0</th>\n",
       "      <td>weddings</td>\n",
       "      <td>real weddings couples got married weekend</td>\n",
       "      <td>author</td>\n",
       "      <td>rare</td>\n",
       "      <td>theres ever time need little distraction life ...</td>\n",
       "      <td>2013-07-29</td>\n",
       "      <td>if there's ever a time you need a little distr...</td>\n",
       "      <td>183</td>\n",
       "    </tr>\n",
       "    <tr>\n",
       "      <th>1</th>\n",
       "      <td>wellness</td>\n",
       "      <td>moment knew</td>\n",
       "      <td>meimei fox</td>\n",
       "      <td>rare</td>\n",
       "      <td>kids may say darndest things parents tweet fun...</td>\n",
       "      <td>2013-02-05</td>\n",
       "      <td>kids may say the darndest things, but parents ...</td>\n",
       "      <td>235</td>\n",
       "    </tr>\n",
       "    <tr>\n",
       "      <th>2</th>\n",
       "      <td>politics</td>\n",
       "      <td>sunday roundup</td>\n",
       "      <td>arianna huffington</td>\n",
       "      <td>rare</td>\n",
       "      <td>receive ebay roundup vintage home finds via em...</td>\n",
       "      <td>2015-01-17</td>\n",
       "      <td>to receive the ebay roundup of vintage home fi...</td>\n",
       "      <td>169</td>\n",
       "    </tr>\n",
       "    <tr>\n",
       "      <th>3</th>\n",
       "      <td>parents</td>\n",
       "      <td>funniest parenting tweets moms dads said twitt...</td>\n",
       "      <td>hollis miller</td>\n",
       "      <td>rare</td>\n",
       "      <td>kids may say darndest things parents tweet fun...</td>\n",
       "      <td>2016-07-15</td>\n",
       "      <td>kids may say the darndest things, but parents ...</td>\n",
       "      <td>213</td>\n",
       "    </tr>\n",
       "    <tr>\n",
       "      <th>4</th>\n",
       "      <td>business</td>\n",
       "      <td>watch 60 seconds social media</td>\n",
       "      <td>shawn amos</td>\n",
       "      <td>rare</td>\n",
       "      <td>think youre real fashionista hmm well step rig...</td>\n",
       "      <td>2012-08-18</td>\n",
       "      <td>so, you think you're a real fashionista, hmm? ...</td>\n",
       "      <td>229</td>\n",
       "    </tr>\n",
       "  </tbody>\n",
       "</table>\n",
       "</div>"
      ],
      "text/plain": [
       "  Article category                                      News Headline  \\\n",
       "0         weddings          real weddings couples got married weekend   \n",
       "1         wellness                                        moment knew   \n",
       "2         politics                                     sunday roundup   \n",
       "3          parents  funniest parenting tweets moms dads said twitt...   \n",
       "4         business                      watch 60 seconds social media   \n",
       "\n",
       "               Author news_link  \\\n",
       "0              author      rare   \n",
       "1          meimei fox      rare   \n",
       "2  arianna huffington      rare   \n",
       "3       hollis miller      rare   \n",
       "4          shawn amos      rare   \n",
       "\n",
       "                                   short_description       date  \\\n",
       "0  theres ever time need little distraction life ... 2013-07-29   \n",
       "1  kids may say darndest things parents tweet fun... 2013-02-05   \n",
       "2  receive ebay roundup vintage home finds via em... 2015-01-17   \n",
       "3  kids may say darndest things parents tweet fun... 2016-07-15   \n",
       "4  think youre real fashionista hmm well step rig... 2012-08-18   \n",
       "\n",
       "                                                text  News_length  \n",
       "0  if there's ever a time you need a little distr...          183  \n",
       "1  kids may say the darndest things, but parents ...          235  \n",
       "2  to receive the ebay roundup of vintage home fi...          169  \n",
       "3  kids may say the darndest things, but parents ...          213  \n",
       "4  so, you think you're a real fashionista, hmm? ...          229  "
      ]
     },
     "execution_count": 31,
     "metadata": {},
     "output_type": "execute_result"
    }
   ],
   "source": [
    "# Removing stopwords \n",
    "\n",
    "stop = stopwords.words('english')\n",
    "df['News Headline'] = df['News Headline'].apply(lambda x: ' '.join([word for word in x.split() if word not in (stop)]))\n",
    "df['Article category'] = df['Article category'].apply(lambda x: ' '.join([word for word in x.split() if word not in (stop)]))\n",
    "df['Author'] = df['Author'].apply(lambda x: ' '.join([word for word in x.split() if word not in (stop)]))\n",
    "df['news_link'] = df['news_link'].apply(lambda x: ' '.join([word for word in x.split() if word not in (stop)]))\n",
    "df['short_description'] = df['short_description'].apply(lambda x: ' '.join([word for word in x.split() if word not in (stop)]))\n",
    "df.head()"
   ]
  },
  {
   "cell_type": "markdown",
   "metadata": {
    "id": "QKHMoa2TbkR9"
   },
   "source": [
    "# Lemmatize and Tokenizing the text"
   ]
  },
  {
   "cell_type": "code",
   "execution_count": 32,
   "metadata": {
    "colab": {
     "base_uri": "https://localhost:8080/"
    },
    "id": "cmufLNO6Ylkj",
    "outputId": "2a0989a3-f1b0-4322-9dcc-3894e2b90fbb"
   },
   "outputs": [
    {
     "name": "stderr",
     "output_type": "stream",
     "text": [
      "[nltk_data] Downloading package wordnet to\n",
      "[nltk_data]     C:\\Users\\asus\\AppData\\Roaming\\nltk_data...\n",
      "[nltk_data]   Package wordnet is already up-to-date!\n",
      "[nltk_data] Downloading package omw-1.4 to\n",
      "[nltk_data]     C:\\Users\\asus\\AppData\\Roaming\\nltk_data...\n",
      "[nltk_data]   Package omw-1.4 is already up-to-date!\n"
     ]
    },
    {
     "data": {
      "text/plain": [
       "True"
      ]
     },
     "execution_count": 32,
     "metadata": {},
     "output_type": "execute_result"
    }
   ],
   "source": [
    "#Downloading the packages for lemmatize and Tokenizing the Text\n",
    "\n",
    "nltk.download('wordnet')\n",
    "nltk.download('omw-1.4')"
   ]
  },
  {
   "cell_type": "code",
   "execution_count": 33,
   "metadata": {
    "colab": {
     "base_uri": "https://localhost:8080/",
     "height": 0
    },
    "id": "lmMIcQ9hWH3-",
    "outputId": "a2a755c4-dda7-4660-f52b-85070dc4d02d"
   },
   "outputs": [
    {
     "data": {
      "text/html": [
       "<div>\n",
       "<style scoped>\n",
       "    .dataframe tbody tr th:only-of-type {\n",
       "        vertical-align: middle;\n",
       "    }\n",
       "\n",
       "    .dataframe tbody tr th {\n",
       "        vertical-align: top;\n",
       "    }\n",
       "\n",
       "    .dataframe thead th {\n",
       "        text-align: right;\n",
       "    }\n",
       "</style>\n",
       "<table border=\"1\" class=\"dataframe\">\n",
       "  <thead>\n",
       "    <tr style=\"text-align: right;\">\n",
       "      <th></th>\n",
       "      <th>Article category</th>\n",
       "      <th>News Headline</th>\n",
       "      <th>Author</th>\n",
       "      <th>news_link</th>\n",
       "      <th>short_description</th>\n",
       "      <th>date</th>\n",
       "      <th>text</th>\n",
       "      <th>News_length</th>\n",
       "    </tr>\n",
       "  </thead>\n",
       "  <tbody>\n",
       "    <tr>\n",
       "      <th>0</th>\n",
       "      <td>weddings</td>\n",
       "      <td>real weddings couple get marry weekend</td>\n",
       "      <td>author</td>\n",
       "      <td>rare</td>\n",
       "      <td>theres ever time need little distraction life ...</td>\n",
       "      <td>2013-07-29</td>\n",
       "      <td>if there's ever a time you need a little distr...</td>\n",
       "      <td>183</td>\n",
       "    </tr>\n",
       "    <tr>\n",
       "      <th>1</th>\n",
       "      <td>wellness</td>\n",
       "      <td>moment know</td>\n",
       "      <td>meimei fox</td>\n",
       "      <td>rare</td>\n",
       "      <td>kid may say darndest things parent tweet funni...</td>\n",
       "      <td>2013-02-05</td>\n",
       "      <td>kids may say the darndest things, but parents ...</td>\n",
       "      <td>235</td>\n",
       "    </tr>\n",
       "    <tr>\n",
       "      <th>2</th>\n",
       "      <td>politics</td>\n",
       "      <td>sunday roundup</td>\n",
       "      <td>arianna huffington</td>\n",
       "      <td>rare</td>\n",
       "      <td>receive ebay roundup vintage home find via ema...</td>\n",
       "      <td>2015-01-17</td>\n",
       "      <td>to receive the ebay roundup of vintage home fi...</td>\n",
       "      <td>169</td>\n",
       "    </tr>\n",
       "    <tr>\n",
       "      <th>3</th>\n",
       "      <td>parent</td>\n",
       "      <td>funniest parent tweet moms dads say twitter week</td>\n",
       "      <td>hollis miller</td>\n",
       "      <td>rare</td>\n",
       "      <td>kid may say darndest things parent tweet funni...</td>\n",
       "      <td>2016-07-15</td>\n",
       "      <td>kids may say the darndest things, but parents ...</td>\n",
       "      <td>213</td>\n",
       "    </tr>\n",
       "    <tr>\n",
       "      <th>4</th>\n",
       "      <td>business</td>\n",
       "      <td>watch 60 second social media</td>\n",
       "      <td>shawn amos</td>\n",
       "      <td>rare</td>\n",
       "      <td>think youre real fashionista hmm well step rig...</td>\n",
       "      <td>2012-08-18</td>\n",
       "      <td>so, you think you're a real fashionista, hmm? ...</td>\n",
       "      <td>229</td>\n",
       "    </tr>\n",
       "  </tbody>\n",
       "</table>\n",
       "</div>"
      ],
      "text/plain": [
       "  Article category                                     News Headline  \\\n",
       "0         weddings            real weddings couple get marry weekend   \n",
       "1         wellness                                       moment know   \n",
       "2         politics                                    sunday roundup   \n",
       "3           parent  funniest parent tweet moms dads say twitter week   \n",
       "4         business                      watch 60 second social media   \n",
       "\n",
       "               Author news_link  \\\n",
       "0              author      rare   \n",
       "1          meimei fox      rare   \n",
       "2  arianna huffington      rare   \n",
       "3       hollis miller      rare   \n",
       "4          shawn amos      rare   \n",
       "\n",
       "                                   short_description       date  \\\n",
       "0  theres ever time need little distraction life ... 2013-07-29   \n",
       "1  kid may say darndest things parent tweet funni... 2013-02-05   \n",
       "2  receive ebay roundup vintage home find via ema... 2015-01-17   \n",
       "3  kid may say darndest things parent tweet funni... 2016-07-15   \n",
       "4  think youre real fashionista hmm well step rig... 2012-08-18   \n",
       "\n",
       "                                                text  News_length  \n",
       "0  if there's ever a time you need a little distr...          183  \n",
       "1  kids may say the darndest things, but parents ...          235  \n",
       "2  to receive the ebay roundup of vintage home fi...          169  \n",
       "3  kids may say the darndest things, but parents ...          213  \n",
       "4  so, you think you're a real fashionista, hmm? ...          229  "
      ]
     },
     "execution_count": 33,
     "metadata": {},
     "output_type": "execute_result"
    }
   ],
   "source": [
    "#defining a funtion for tokenizing and lemmatizing\n",
    "\n",
    "w_tokenizer = nltk.tokenize.WhitespaceTokenizer()\n",
    "lemmatizer = nltk.stem.WordNetLemmatizer()\n",
    "\n",
    "def lemmatize_text(text):\n",
    "  return ' '.join([lemmatizer.lemmatize(w,'v') for w in w_tokenizer.tokenize(text)])\n",
    "\n",
    "df[\"Article category\"] = df[\"Article category\"].apply(lemmatize_text)\n",
    "df[\"Author\"] = df[\"Author\"].apply(lemmatize_text)\n",
    "df[\"News Headline\"] = df[\"News Headline\"].apply(lemmatize_text)\n",
    "df[\"news_link\"] = df[\"news_link\"].apply(lemmatize_text)\n",
    "df[\"short_description\"] = df[\"short_description\"].apply(lemmatize_text)\n",
    "df.head()"
   ]
  },
  {
   "cell_type": "markdown",
   "metadata": {
    "id": "TEejnC-ErNCJ"
   },
   "source": [
    "# Wordcloud"
   ]
  },
  {
   "cell_type": "code",
   "execution_count": 34,
   "metadata": {
    "id": "QqSAhBdeiB6J"
   },
   "outputs": [],
   "source": [
    "#importing packages for wordcloud\n",
    "\n",
    "from wordcloud import WordCloud"
   ]
  },
  {
   "cell_type": "code",
   "execution_count": 35,
   "metadata": {
    "colab": {
     "base_uri": "https://localhost:8080/",
     "height": 386
    },
    "id": "v4RKenYhckVg",
    "outputId": "bddbc89d-68fa-4442-c31c-8e9a669b2384"
   },
   "outputs": [
    {
     "data": {
      "image/png": "[encoded data removed]",
      "text/plain": [
       "<Figure size 576x576 with 1 Axes>"
      ]
     },
     "metadata": {
      "needs_background": "light"
     },
     "output_type": "display_data"
    }
   ],
   "source": [
    "def wordcloud_generator(words):\n",
    "    wc= WordCloud(width=800,height=600,random_state=42,max_font_size=100).generate(words)\n",
    "    plt.figure(figsize=(8,8))\n",
    "    plt.imshow(wc,interpolation='bilinear')\n",
    "    plt.show()\n",
    "    \n",
    "\n",
    "def word_category(wellness):\n",
    "    subset=df[df['Article category'] == wellness]\n",
    "    texts=subset.text.values\n",
    "    words= ''.join(texts)\n",
    "    wordcloud_generator(words)\n",
    "    \n",
    "word_category('wellness') \n"
   ]
  },
  {
   "cell_type": "markdown",
   "metadata": {
    "id": "PY5tGXdXhNFe"
   },
   "source": [
    "    #From this world cloud image we concluded that the words with bigger size are most occuring words in specific category (Wellness here..)\n",
    "\n",
    "\n"
   ]
  },
  {
   "cell_type": "code",
   "execution_count": 36,
   "metadata": {
    "id": "WciVJDew2psG"
   },
   "outputs": [],
   "source": [
    "import tensorflow as tf\n",
    "from tensorflow import keras\n",
    "from keras.callbacks import ModelCheckpoint\n",
    "from keras.preprocessing.text import Tokenizer\n",
    "from sklearn.model_selection import train_test_split, cross_val_score\n",
    "from tensorflow.keras.preprocessing.sequence import pad_sequences\n",
    "from tensorflow.keras.utils import to_categorical\n",
    "from sklearn.preprocessing import LabelEncoder\n",
    "\n",
    "# model building imports\n",
    "from keras.layers import Embedding, Flatten, Dense, Dropout\n",
    "from keras.layers import Conv1D, SimpleRNN, Bidirectional, MaxPooling1D, GlobalMaxPool1D, LSTM, GRU\n",
    "from keras.models import Sequential\n",
    "from keras.regularizers import L1L2\n"
   ]
  },
  {
   "cell_type": "code",
   "execution_count": 37,
   "metadata": {
    "colab": {
     "base_uri": "https://localhost:8080/"
    },
    "id": "w5KOXYU_2ugx",
    "outputId": "1c175662-fe55-4a9d-d2ca-abbb142bff33"
   },
   "outputs": [
    {
     "name": "stdout",
     "output_type": "stream",
     "text": [
      "shape of input data:  (10000,)\n",
      "shape of target variable:  (10000,)\n"
     ]
    }
   ],
   "source": [
    "# one hot encoding using keras tokenizer and pad sequencing\n",
    "X = df['text']\n",
    "encoder = LabelEncoder()\n",
    "y = encoder.fit_transform(df['Article category'])\n",
    "print(\"shape of input data: \", X.shape)\n",
    "print(\"shape of target variable: \", y.shape)\n",
    "\n",
    "X_train, X_test, y_train, y_test = train_test_split(X, y, test_size=0.20)\n",
    "\n",
    "max_features = 100000\n",
    "max_len = 200\n",
    "\n",
    "tokenizer = Tokenizer(lower = True, filters='#$%&()*+-<=>@[\\\\]^_`{|}~\\t\\n', num_words=max_features)\n",
    "full_text = list(X_train.values) + list(X_test.values)\n",
    "tokenizer.fit_on_texts(full_text)\n",
    "\n",
    "# padding X_train text input data\n",
    "train_seq = tokenizer.texts_to_sequences(X_train) # converts strings into integer lists\n",
    "train_padseq = pad_sequences(train_seq, maxlen=max_len) # pads the integer lists to 2D integer tensor \n",
    "\n",
    "# padding X_test text input data\n",
    "test_seq = tokenizer.texts_to_sequences(X_test)\n",
    "test_padseq = pad_sequences(test_seq, maxlen=max_len)\n",
    "\n",
    "# word_index = tokenizer.word_index\n",
    "# max_words = 150000  # total number of words to consider in embedding layer\n",
    "# total_words = len(word_index)\n",
    "# maxlen = 130 # max length of sequence \n",
    "y_train = to_categorical(y_train, num_classes=41)\n",
    "y_test = to_categorical(y_test, num_classes=41)    "
   ]
  },
  {
   "cell_type": "markdown",
   "metadata": {
    "id": "W0HDJnk89zfM"
   },
   "source": [
    "### Baseline Model using Embedding and simpleRNN"
   ]
  },
  {
   "cell_type": "code",
   "execution_count": 38,
   "metadata": {
    "colab": {
     "base_uri": "https://localhost:8080/"
    },
    "id": "jiPfeVwUSKWS",
    "outputId": "6c097148-d053-4a3f-9d3d-fc4fbd1efe9e"
   },
   "outputs": [
    {
     "name": "stdout",
     "output_type": "stream",
     "text": [
      "Model: \"sequential\"\n",
      "_________________________________________________________________\n",
      " Layer (type)                Output Shape              Param #   \n",
      "=================================================================\n",
      " embedding (Embedding)       (None, None, 41)          4100000   \n",
      "                                                                 \n",
      " bidirectional (Bidirectiona  (None, None, 128)        13568     \n",
      " l)                                                              \n",
      "                                                                 \n",
      " bidirectional_1 (Bidirectio  (None, None, 256)        65792     \n",
      " nal)                                                            \n",
      "                                                                 \n",
      " simple_rnn_2 (SimpleRNN)    (None, 64)                20544     \n",
      "                                                                 \n",
      " dropout (Dropout)           (None, 64)                0         \n",
      "                                                                 \n",
      " dense (Dense)               (None, 41)                2665      \n",
      "                                                                 \n",
      "=================================================================\n",
      "Total params: 4,202,569\n",
      "Trainable params: 4,202,569\n",
      "Non-trainable params: 0\n",
      "_________________________________________________________________\n"
     ]
    }
   ],
   "source": [
    "model1 = Sequential()\n",
    "model1.add(Embedding(input_dim = max_features, output_dim = 41))\n",
    "model1.add(Bidirectional(SimpleRNN(64, dropout=0.1, recurrent_dropout=0.20, activation='tanh', return_sequences=True)))\n",
    "model1.add(Bidirectional(SimpleRNN(128, dropout=0.1, recurrent_dropout=0.30, activation='tanh', return_sequences=True)))\n",
    "model1.add(SimpleRNN(64, activation='tanh'))\n",
    "model1.add(Dropout(0.1))\n",
    "model1.add(Dense(41, activation='softmax'))    \n",
    "model1.summary()"
   ]
  },
  {
   "cell_type": "code",
   "execution_count": 40,
   "metadata": {
    "colab": {
     "base_uri": "https://localhost:8080/"
    },
    "id": "dI-7fDQQSKoO",
    "outputId": "68c17b26-50ae-4920-eef0-1c3962424ad5"
   },
   "outputs": [
    {
     "name": "stdout",
     "output_type": "stream",
     "text": [
      "Epoch 1/10\n",
      "200/200 [==============================] - 43s 200ms/step - loss: 0.5264 - accuracy: 0.8225 - val_loss: 0.6835 - val_accuracy: 0.7912\n",
      "Epoch 2/10\n",
      "200/200 [==============================] - 38s 189ms/step - loss: 0.5055 - accuracy: 0.8316 - val_loss: 0.6714 - val_accuracy: 0.7950\n",
      "Epoch 3/10\n",
      "200/200 [==============================] - 38s 189ms/step - loss: 0.5080 - accuracy: 0.8269 - val_loss: 0.6741 - val_accuracy: 0.7944\n",
      "Epoch 4/10\n",
      "200/200 [==============================] - 38s 190ms/step - loss: 0.4884 - accuracy: 0.8339 - val_loss: 0.6723 - val_accuracy: 0.7944\n",
      "Epoch 5/10\n",
      "200/200 [==============================] - 38s 192ms/step - loss: 0.4806 - accuracy: 0.8331 - val_loss: 0.6766 - val_accuracy: 0.7950\n",
      "Epoch 6/10\n",
      "200/200 [==============================] - 38s 188ms/step - loss: 0.4617 - accuracy: 0.8400 - val_loss: 0.6648 - val_accuracy: 0.8069\n",
      "Epoch 7/10\n",
      "200/200 [==============================] - 37s 187ms/step - loss: 0.4761 - accuracy: 0.8331 - val_loss: 0.6741 - val_accuracy: 0.8025\n",
      "Epoch 8/10\n",
      "200/200 [==============================] - 38s 190ms/step - loss: 0.4574 - accuracy: 0.8377 - val_loss: 0.6635 - val_accuracy: 0.7981\n",
      "Epoch 9/10\n",
      "200/200 [==============================] - 40s 202ms/step - loss: 0.4573 - accuracy: 0.8384 - val_loss: 0.6623 - val_accuracy: 0.7994\n",
      "Epoch 10/10\n",
      "200/200 [==============================] - 39s 194ms/step - loss: 0.4422 - accuracy: 0.8428 - val_loss: 0.6782 - val_accuracy: 0.7950\n"
     ]
    }
   ],
   "source": [
    "model1.compile(optimizer='Adam',\n",
    "            loss='categorical_crossentropy',\n",
    "            metrics=['accuracy']\n",
    "            )\n",
    "\n",
    "history1 = model1.fit(train_padseq, y_train, \n",
    "                   batch_size=32, \n",
    "                    epochs=10, \n",
    "                    validation_split=0.2\n",
    "                   )"
   ]
  },
  {
   "cell_type": "code",
   "execution_count": 46,
   "metadata": {
    "colab": {
     "base_uri": "https://localhost:8080/",
     "height": 410
    },
    "id": "Gp7OOeikTrM-",
    "outputId": "14e95ebb-93e1-4b20-c69f-6e2be0fb6993"
   },
   "outputs": [
    {
     "data": {
      "image/png": "[encoded data removed]",
      "text/plain": [
       "<Figure size 1080x432 with 2 Axes>"
      ]
     },
     "metadata": {
      "needs_background": "light"
     },
     "output_type": "display_data"
    }
   ],
   "source": [
    "def plot_loss_accuracy(history):\n",
    "\n",
    "    # create object of arrays of accuracy and loss\n",
    "    acc = history.history['accuracy']\n",
    "    val_acc = history.history['val_accuracy']\n",
    "    loss = history.history['loss']\n",
    "    val_loss = history.history['val_loss']\n",
    "    \n",
    "    # number of epochs in our model\n",
    "    epochs = range(1 ,len(acc) + 1)\n",
    "    \n",
    "    # call matplolib figure object and plot loss and accuracy curves\n",
    "    plt.figure(figsize=(15,6))\n",
    "    \n",
    "    plt.subplot(121)\n",
    "    plt.plot(epochs, acc, 'bo', label='Training acc')\n",
    "    plt.plot(epochs, val_acc, 'b', label='Validation acc')\n",
    "    plt.title(\"Training and validation accuracy\", fontsize=15)\n",
    "    plt.xlabel('epochs', fontsize=14)\n",
    "    plt.ylabel(\"accuracy\", fontsize=14)\n",
    "    plt.legend()\n",
    "    \n",
    "    plt.subplot(122)\n",
    "    plt.plot(epochs, loss, 'bo', label='Training loss')\n",
    "    plt.plot(epochs, val_loss, 'b', label='Validation loss')\n",
    "    plt.title(\"Training and validation loss\", fontsize=15)\n",
    "    plt.xlabel('epochs', fontsize=14)\n",
    "    plt.ylabel(\"loss\", fontsize=14)\n",
    "    plt.legend()\n",
    "    \n",
    "    plt.show()\n",
    "plot_loss_accuracy(history1)"
   ]
  },
  {
   "cell_type": "markdown",
   "metadata": {
    "id": "y-79-iprZcgN"
   },
   "source": [
    "### Hyperparameter Tuning "
   ]
  },
  {
   "cell_type": "markdown",
   "metadata": {
    "id": "5LMH4FsqZkrn"
   },
   "source": [
    "Parameters such as output dimension, epochs and batch size are impacting the model so we have changed these parameters to see the result and accuracy"
   ]
  },
  {
   "cell_type": "code",
   "execution_count": 43,
   "metadata": {
    "colab": {
     "base_uri": "https://localhost:8080/"
    },
    "id": "0V0-Anzq3aJU",
    "outputId": "49485da2-0747-4211-d3e7-ef8977836f3f"
   },
   "outputs": [
    {
     "name": "stdout",
     "output_type": "stream",
     "text": [
      "Model: \"sequential_1\"\n",
      "_________________________________________________________________\n",
      " Layer (type)                Output Shape              Param #   \n",
      "=================================================================\n",
      " embedding_1 (Embedding)     (None, None, 128)         12800000  \n",
      "                                                                 \n",
      " bidirectional_2 (Bidirectio  (None, None, 128)        24704     \n",
      " nal)                                                            \n",
      "                                                                 \n",
      " bidirectional_3 (Bidirectio  (None, None, 128)        24704     \n",
      " nal)                                                            \n",
      "                                                                 \n",
      " simple_rnn_5 (SimpleRNN)    (None, 32)                5152      \n",
      "                                                                 \n",
      " dropout_1 (Dropout)         (None, 32)                0         \n",
      "                                                                 \n",
      " dense_1 (Dense)             (None, 41)                1353      \n",
      "                                                                 \n",
      "=================================================================\n",
      "Total params: 12,855,913\n",
      "Trainable params: 12,855,913\n",
      "Non-trainable params: 0\n",
      "_________________________________________________________________\n"
     ]
    }
   ],
   "source": [
    "# basline model using embedding layers and simpleRNN\n",
    "model = Sequential()\n",
    "model.add(Embedding(input_dim = max_features, output_dim = 128))\n",
    "model.add(Bidirectional(SimpleRNN(64, dropout=0.1, recurrent_dropout=0.20, activation='tanh', return_sequences=True)))\n",
    "model.add(Bidirectional(SimpleRNN(64, dropout=0.1, recurrent_dropout=0.30, activation='tanh', return_sequences=True)))\n",
    "model.add(SimpleRNN(32, activation='tanh'))\n",
    "model.add(Dropout(0.2))\n",
    "model.add(Dense(41, activation='softmax'))\n",
    "model.summary()"
   ]
  },
  {
   "cell_type": "code",
   "execution_count": 44,
   "metadata": {
    "colab": {
     "base_uri": "https://localhost:8080/"
    },
    "id": "kCg6i7EU3eis",
    "outputId": "38bea66d-ba21-4e8b-8e99-0cf566567932"
   },
   "outputs": [
    {
     "name": "stdout",
     "output_type": "stream",
     "text": [
      "Epoch 1/15\n",
      "50/50 [==============================] - 47s 881ms/step - loss: 2.7476 - accuracy: 0.3714 - val_loss: 1.7636 - val_accuracy: 0.6331\n",
      "Epoch 2/15\n",
      "50/50 [==============================] - 44s 885ms/step - loss: 1.7455 - accuracy: 0.6019 - val_loss: 1.3391 - val_accuracy: 0.6694\n",
      "Epoch 3/15\n",
      "50/50 [==============================] - 44s 884ms/step - loss: 1.3521 - accuracy: 0.6698 - val_loss: 1.1232 - val_accuracy: 0.7119\n",
      "Epoch 4/15\n",
      "50/50 [==============================] - 47s 950ms/step - loss: 1.1356 - accuracy: 0.7045 - val_loss: 0.9912 - val_accuracy: 0.7275\n",
      "Epoch 5/15\n",
      "50/50 [==============================] - 47s 936ms/step - loss: 0.9754 - accuracy: 0.7414 - val_loss: 0.8881 - val_accuracy: 0.7738\n",
      "Epoch 6/15\n",
      "50/50 [==============================] - 45s 902ms/step - loss: 0.8714 - accuracy: 0.7645 - val_loss: 0.8278 - val_accuracy: 0.7775\n",
      "Epoch 7/15\n",
      "50/50 [==============================] - 46s 923ms/step - loss: 0.8058 - accuracy: 0.7702 - val_loss: 0.7770 - val_accuracy: 0.7869\n",
      "Epoch 8/15\n",
      "50/50 [==============================] - 45s 896ms/step - loss: 0.7526 - accuracy: 0.7900 - val_loss: 0.7441 - val_accuracy: 0.7944\n",
      "Epoch 9/15\n",
      "50/50 [==============================] - 44s 888ms/step - loss: 0.7014 - accuracy: 0.8011 - val_loss: 0.7255 - val_accuracy: 0.7931\n",
      "Epoch 10/15\n",
      "50/50 [==============================] - 45s 895ms/step - loss: 0.6661 - accuracy: 0.8034 - val_loss: 0.7194 - val_accuracy: 0.7944\n",
      "Epoch 11/15\n",
      "50/50 [==============================] - 44s 882ms/step - loss: 0.6413 - accuracy: 0.8087 - val_loss: 0.7069 - val_accuracy: 0.7925\n",
      "Epoch 12/15\n",
      "50/50 [==============================] - 45s 907ms/step - loss: 0.6196 - accuracy: 0.8188 - val_loss: 0.7125 - val_accuracy: 0.8006\n",
      "Epoch 13/15\n",
      "50/50 [==============================] - 45s 892ms/step - loss: 0.6094 - accuracy: 0.8189 - val_loss: 0.6940 - val_accuracy: 0.8006\n",
      "Epoch 14/15\n",
      "50/50 [==============================] - 44s 888ms/step - loss: 0.5876 - accuracy: 0.8241 - val_loss: 0.6930 - val_accuracy: 0.8044\n",
      "Epoch 15/15\n",
      "50/50 [==============================] - 45s 900ms/step - loss: 0.5676 - accuracy: 0.8245 - val_loss: 0.6767 - val_accuracy: 0.8050\n",
      "test loss and accuracy: 0.5386892557144165 0.8240000009536743\n"
     ]
    }
   ],
   "source": [
    "model.compile(optimizer='rmsprop',\n",
    "            loss='categorical_crossentropy',\n",
    "            metrics=['accuracy']\n",
    "            )\n",
    "# SETUP A EARLY STOPPING CALL and model check point API\n",
    "earlystopping = keras.callbacks.EarlyStopping(monitor='accuracy',\n",
    "                                             patience=5,\n",
    "                                              verbose=1,\n",
    "                                              mode='min'\n",
    "                                             )\n",
    "checkpointer = ModelCheckpoint(filepath='bestvalue',moniter='val_loss', verbose=0, save_best_only=True)\n",
    "callback_list = [checkpointer, earlystopping]\n",
    "\n",
    "# fit model to the data\n",
    "history = model.fit(train_padseq, y_train, \n",
    "                   batch_size=128, \n",
    "                    epochs=15, \n",
    "                    validation_split=0.2\n",
    "                   )\n",
    "\n",
    "# evalute the model\n",
    "test_loss, test_acc = model.evaluate(test_padseq, y_test, verbose=0)\n",
    "print(\"test loss and accuracy:\", test_loss, test_acc)"
   ]
  },
  {
   "cell_type": "code",
   "execution_count": 45,
   "metadata": {
    "colab": {
     "base_uri": "https://localhost:8080/",
     "height": 410
    },
    "id": "QcbJ0vQSFXpr",
    "outputId": "4dbf5020-c941-4c54-ee75-3e387b2929cb",
    "scrolled": true
   },
   "outputs": [
    {
     "data": {
      "image/png": "[encoded data removed]",
      "text/plain": [
       "<Figure size 1080x432 with 2 Axes>"
      ]
     },
     "metadata": {
      "needs_background": "light"
     },
     "output_type": "display_data"
    }
   ],
   "source": [
    "def plot_loss_accuracy(history):\n",
    "\n",
    "    # create object of arrays of accuracy and loss\n",
    "    acc = history.history['accuracy']\n",
    "    val_acc = history.history['val_accuracy']\n",
    "    loss = history.history['loss']\n",
    "    val_loss = history.history['val_loss']\n",
    "    \n",
    "    # number of epochs in our model\n",
    "    epochs = range(1 ,len(acc) + 1)\n",
    "    \n",
    "    # call matplolib figure object and plot loss and accuracy curves\n",
    "    plt.figure(figsize=(15,6))\n",
    "    \n",
    "    plt.subplot(121)\n",
    "    plt.plot(epochs, acc, 'bo', label='Training acc')\n",
    "    plt.plot(epochs, val_acc, 'b', label='Validation acc')\n",
    "    plt.title(\"Training and validation accuracy\", fontsize=15)\n",
    "    plt.xlabel('epochs', fontsize=14)\n",
    "    plt.ylabel(\"accuracy\", fontsize=14)\n",
    "    plt.legend()\n",
    "    \n",
    "    plt.subplot(122)\n",
    "    plt.plot(epochs, loss, 'bo', label='Training loss')\n",
    "    plt.plot(epochs, val_loss, 'b', label='Validation loss')\n",
    "    plt.title(\"Training and validation loss\", fontsize=15)\n",
    "    plt.xlabel('epochs', fontsize=14)\n",
    "    plt.ylabel(\"loss\", fontsize=14)\n",
    "    plt.legend()\n",
    "    \n",
    "    plt.show()\n",
    "plot_loss_accuracy(history)"
   ]
  },
  {
   "cell_type": "markdown",
   "metadata": {
    "id": "vqMUXkC9aD-y"
   },
   "source": [
    "# Conclusion\n",
    "We come to know that we have used the RNN model to train the data and found the accuracy 82.50 % and after the hyperparameter tuning we found it 82.40%. "
   ]
  },
  {
   "cell_type": "code",
   "execution_count": null,
   "metadata": {},
   "outputs": [],
   "source": [
    "#this is the new code for only the testing purpose\n"
   ]
  }
 ],
 "metadata": {
  "colab": {
   "provenance": []
  },
  "kernelspec": {
   "display_name": "Python 3",
   "language": "python",
   "name": "python3"
  },
  "language_info": {
   "codemirror_mode": {
    "name": "ipython",
    "version": 3
   },
   "file_extension": ".py",
   "mimetype": "text/x-python",
   "name": "python",
   "nbconvert_exporter": "python",
   "pygments_lexer": "ipython3",
   "version": "3.10.2 (tags/v3.10.2:a58ebcc, Jan 17 2022, 14:12:15) [MSC v.1929 64 bit (AMD64)]"
  },
  "vscode": {
   "interpreter": {
    "hash": "876db7d3f8682b7e4c5477e5f1e2dc2bd1b19fe05d9aabd59218369070754b39"
   }
  }
 },
 "nbformat": 4,
 "nbformat_minor": 1
}
